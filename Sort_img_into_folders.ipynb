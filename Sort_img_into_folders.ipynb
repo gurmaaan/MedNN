{
 "cells": [
  {
   "cell_type": "code",
   "execution_count": 112,
   "metadata": {},
   "outputs": [],
   "source": [
    "import pandas as pd\n",
    "from sklearn.model_selection import train_test_split\n",
    "import seaborn as sns\n",
    "from matplotlib import pyplot as plt\n",
    "from PIL import Image\n",
    "import os\n",
    "import glob\n",
    "import random\n",
    "from shutil import copyfile"
   ]
  },
  {
   "cell_type": "code",
   "execution_count": 104,
   "metadata": {},
   "outputs": [],
   "source": [
    "names_file = 'training.csv'\n",
    "ts = 0.29\n",
    "wh = 32"
   ]
  },
  {
   "cell_type": "code",
   "execution_count": 4,
   "metadata": {},
   "outputs": [
    {
     "data": {
      "text/html": [
       "<div>\n",
       "<style scoped>\n",
       "    .dataframe tbody tr th:only-of-type {\n",
       "        vertical-align: middle;\n",
       "    }\n",
       "\n",
       "    .dataframe tbody tr th {\n",
       "        vertical-align: top;\n",
       "    }\n",
       "\n",
       "    .dataframe thead th {\n",
       "        text-align: right;\n",
       "    }\n",
       "</style>\n",
       "<table border=\"1\" class=\"dataframe\">\n",
       "  <thead>\n",
       "    <tr style=\"text-align: right;\">\n",
       "      <th></th>\n",
       "      <th>Unnamed: 0</th>\n",
       "      <th>id</th>\n",
       "      <th>name</th>\n",
       "      <th>type</th>\n",
       "      <th>w</th>\n",
       "      <th>h</th>\n",
       "      <th>dataset</th>\n",
       "      <th>diagnosis</th>\n",
       "      <th>diagnosis_confirm_type</th>\n",
       "      <th>age</th>\n",
       "      <th>sex</th>\n",
       "    </tr>\n",
       "  </thead>\n",
       "  <tbody>\n",
       "    <tr>\n",
       "      <th>0</th>\n",
       "      <td>0</td>\n",
       "      <td>5aaf12491165976913627e89</td>\n",
       "      <td>ISIC_0024306</td>\n",
       "      <td>dermoscopic</td>\n",
       "      <td>600</td>\n",
       "      <td>450</td>\n",
       "      <td>HAM10000</td>\n",
       "      <td>nevus</td>\n",
       "      <td>serial imaging showing no change</td>\n",
       "      <td>45</td>\n",
       "      <td>male</td>\n",
       "    </tr>\n",
       "    <tr>\n",
       "      <th>1</th>\n",
       "      <td>1</td>\n",
       "      <td>5aaf12491165976913627e95</td>\n",
       "      <td>ISIC_0024307</td>\n",
       "      <td>dermoscopic</td>\n",
       "      <td>600</td>\n",
       "      <td>450</td>\n",
       "      <td>HAM10000</td>\n",
       "      <td>nevus</td>\n",
       "      <td>serial imaging showing no change</td>\n",
       "      <td>50</td>\n",
       "      <td>male</td>\n",
       "    </tr>\n",
       "    <tr>\n",
       "      <th>2</th>\n",
       "      <td>2</td>\n",
       "      <td>5aaf12491165976913627ea0</td>\n",
       "      <td>ISIC_0024308</td>\n",
       "      <td>dermoscopic</td>\n",
       "      <td>600</td>\n",
       "      <td>450</td>\n",
       "      <td>HAM10000</td>\n",
       "      <td>nevus</td>\n",
       "      <td>serial imaging showing no change</td>\n",
       "      <td>55</td>\n",
       "      <td>female</td>\n",
       "    </tr>\n",
       "    <tr>\n",
       "      <th>3</th>\n",
       "      <td>3</td>\n",
       "      <td>5aaf12491165976913627eab</td>\n",
       "      <td>ISIC_0024309</td>\n",
       "      <td>dermoscopic</td>\n",
       "      <td>600</td>\n",
       "      <td>450</td>\n",
       "      <td>HAM10000</td>\n",
       "      <td>nevus</td>\n",
       "      <td>serial imaging showing no change</td>\n",
       "      <td>40</td>\n",
       "      <td>male</td>\n",
       "    </tr>\n",
       "    <tr>\n",
       "      <th>4</th>\n",
       "      <td>4</td>\n",
       "      <td>5aaf12491165976913627eb6</td>\n",
       "      <td>ISIC_0024310</td>\n",
       "      <td>dermoscopic</td>\n",
       "      <td>600</td>\n",
       "      <td>450</td>\n",
       "      <td>HAM10000</td>\n",
       "      <td>melanoma</td>\n",
       "      <td>histopathology</td>\n",
       "      <td>60</td>\n",
       "      <td>male</td>\n",
       "    </tr>\n",
       "  </tbody>\n",
       "</table>\n",
       "</div>"
      ],
      "text/plain": [
       "   Unnamed: 0                        id          name         type    w    h  \\\n",
       "0           0  5aaf12491165976913627e89  ISIC_0024306  dermoscopic  600  450   \n",
       "1           1  5aaf12491165976913627e95  ISIC_0024307  dermoscopic  600  450   \n",
       "2           2  5aaf12491165976913627ea0  ISIC_0024308  dermoscopic  600  450   \n",
       "3           3  5aaf12491165976913627eab  ISIC_0024309  dermoscopic  600  450   \n",
       "4           4  5aaf12491165976913627eb6  ISIC_0024310  dermoscopic  600  450   \n",
       "\n",
       "    dataset diagnosis            diagnosis_confirm_type  age     sex  \n",
       "0  HAM10000     nevus  serial imaging showing no change   45    male  \n",
       "1  HAM10000     nevus  serial imaging showing no change   50    male  \n",
       "2  HAM10000     nevus  serial imaging showing no change   55  female  \n",
       "3  HAM10000     nevus  serial imaging showing no change   40    male  \n",
       "4  HAM10000  melanoma                    histopathology   60    male  "
      ]
     },
     "execution_count": 4,
     "metadata": {},
     "output_type": "execute_result"
    }
   ],
   "source": [
    "df = pd.read_csv(names_file)\n",
    "# df.drop('Unnamed: 0', axis=1, inplace=True)\n",
    "df.head()"
   ]
  },
  {
   "cell_type": "code",
   "execution_count": 5,
   "metadata": {},
   "outputs": [],
   "source": [
    "X = df['name']\n",
    "y = df['diagnosis']\n",
    "X_train, X_test, y_train, y_test = train_test_split(X, y, test_size=ts, random_state=42)"
   ]
  },
  {
   "cell_type": "code",
   "execution_count": 19,
   "metadata": {},
   "outputs": [],
   "source": [
    "def plot_hist(data, name=\"\"):\n",
    "    plt.figure(figsize=(16,5))\n",
    "    plt.xticks(rotation=45)\n",
    "    plt.title(name)\n",
    "    sns.countplot(data);   "
   ]
  },
  {
   "cell_type": "code",
   "execution_count": 20,
   "metadata": {},
   "outputs": [
    {
     "data": {
      "image/png": "[encoded data removed]",
      "text/plain": [
       "<Figure size 1152x360 with 1 Axes>"
      ]
     },
     "metadata": {
      "needs_background": "light"
     },
     "output_type": "display_data"
    }
   ],
   "source": [
    "plot_hist(y_test, \"Test\")"
   ]
  },
  {
   "cell_type": "code",
   "execution_count": 21,
   "metadata": {},
   "outputs": [
    {
     "data": {
      "image/png": "[encoded data removed]",
      "text/plain": [
       "<Figure size 1152x360 with 1 Axes>"
      ]
     },
     "metadata": {
      "needs_background": "light"
     },
     "output_type": "display_data"
    }
   ],
   "source": [
    "plot_hist(y_train, \"train\")"
   ]
  },
  {
   "cell_type": "code",
   "execution_count": 22,
   "metadata": {},
   "outputs": [
    {
     "data": {
      "text/plain": [
       "['nevus',\n",
       " 'pigmented benign keratosis',\n",
       " 'melanoma',\n",
       " 'dermatofibroma',\n",
       " 'basal cell carcinoma',\n",
       " 'squamous cell carcinoma',\n",
       " 'vascular lesion',\n",
       " 'actinic keratosis']"
      ]
     },
     "execution_count": 22,
     "metadata": {},
     "output_type": "execute_result"
    }
   ],
   "source": [
    "folder_names = list(y_train.unique())\n",
    "folder_names"
   ]
  },
  {
   "cell_type": "code",
   "execution_count": 24,
   "metadata": {},
   "outputs": [],
   "source": [
    "for fn in folder_names:\n",
    "    train_folder = 'train/' + fn\n",
    "    valid_folder = 'test/' + fn\n",
    "    if not os.path.exists(train_folder):\n",
    "        os.makedirs(train_folder)\n",
    "    if not os.path.exists(valid_folder):\n",
    "        os.makedirs(valid_folder)"
   ]
  },
  {
   "cell_type": "code",
   "execution_count": 11,
   "metadata": {},
   "outputs": [],
   "source": [
    "X_train_list = list(X_train)\n",
    "y_train_list = list(y_train)\n",
    "for i in range(len(X_train_list)):\n",
    "    old_path = 'img/' + X_train_list[i] + \".jpg\"\n",
    "    new_path = 'train' + '/' + y_train_list[i] + '/' + X_train_list[i] + \".jpg\"\n",
    "    os.replace(old_path, new_path)"
   ]
  },
  {
   "cell_type": "code",
   "execution_count": 12,
   "metadata": {},
   "outputs": [],
   "source": [
    "X_test_list = list(X_test)\n",
    "y_test_list = list(y_test)\n",
    "for i in range(len(X_test_list)):\n",
    "    old_path = 'img/' + X_test_list[i] + \".jpg\"\n",
    "    new_path = 'test/' + y_test_list[i] + '/' + X_test_list[i] + \".jpg\"\n",
    "    os.replace(old_path, new_path)"
   ]
  },
  {
   "cell_type": "markdown",
   "metadata": {},
   "source": [
    "## Обрез до 32х32 и копирование в новую папку"
   ]
  },
  {
   "cell_type": "code",
   "execution_count": 3,
   "metadata": {},
   "outputs": [],
   "source": [
    "def resize_img(name, new_path, size):\n",
    "    img = Image.open(name)\n",
    "    img = img.resize((size,size))\n",
    "    img.save(new_path)"
   ]
  },
  {
   "cell_type": "code",
   "execution_count": 26,
   "metadata": {},
   "outputs": [],
   "source": [
    "for fn in folder_names:\n",
    "    train_folder = f'train{wh}x{wh}/' + fn\n",
    "    test_folder = f'test{wh}x{wh}/' + fn\n",
    "    if not os.path.exists(train_folder):\n",
    "        os.makedirs(train_folder)\n",
    "    if not os.path.exists(test_folder):\n",
    "        os.makedirs(test_folder)"
   ]
  },
  {
   "cell_type": "code",
   "execution_count": 27,
   "metadata": {},
   "outputs": [
    {
     "data": {
      "text/plain": [
       "(6710, 3305)"
      ]
     },
     "execution_count": 27,
     "metadata": {},
     "output_type": "execute_result"
    }
   ],
   "source": [
    "train_size = 0\n",
    "valid_size = 0\n",
    "for fn in folder_names:\n",
    "    train_size+=len(os.listdir('train/' + fn))\n",
    "    valid_size+=len(os.listdir('test/' + fn))\n",
    "train_size, valid_size"
   ]
  },
  {
   "cell_type": "code",
   "execution_count": 8,
   "metadata": {},
   "outputs": [
    {
     "name": "stdout",
     "output_type": "stream",
     "text": [
      "Done 1 / 8. Class - actinic keratosis\n",
      "Done 2 / 8. Class - basal cell carcinoma\n",
      "Done 3 / 8. Class - dermatofibroma\n",
      "Done 4 / 8. Class - melanoma\n",
      "Done 5 / 8. Class - nevus\n",
      "Done 6 / 8. Class - pigmented benign keratosis\n",
      "Done 7 / 8. Class - squamous cell carcinoma\n",
      "Done 8 / 8. Class - vascular lesion\n"
     ]
    }
   ],
   "source": [
    "for fn in folder_names:\n",
    "    folder = 'train/' + fn\n",
    "    for img in os.listdir(folder):\n",
    "        name = folder + '/' + img\n",
    "        new_path = 'train{}/'.format(wh) + fn + '/'+ img.split('.')[0] + '_{}x{}.jpg'.format(wh,wh)\n",
    "        resize_img(name, new_path, wh)\n",
    "    print('Done {} / {}. Class - {}'.format(folder_names.index(fn) + 1, len(folder_names), fn))"
   ]
  },
  {
   "cell_type": "code",
   "execution_count": 9,
   "metadata": {},
   "outputs": [
    {
     "name": "stdout",
     "output_type": "stream",
     "text": [
      "Done 1 / 8. Class - actinic keratosis\n",
      "Done 2 / 8. Class - basal cell carcinoma\n",
      "Done 3 / 8. Class - dermatofibroma\n",
      "Done 4 / 8. Class - melanoma\n",
      "Done 5 / 8. Class - nevus\n",
      "Done 6 / 8. Class - pigmented benign keratosis\n",
      "Done 7 / 8. Class - squamous cell carcinoma\n",
      "Done 8 / 8. Class - vascular lesion\n"
     ]
    }
   ],
   "source": [
    "for fn in folder_names:\n",
    "    folder = 'valid/' + fn\n",
    "    for img in os.listdir(folder):\n",
    "        name = folder + '/' + img\n",
    "        new_path = 'valid{}/'.format(wh) + fn + '/'+ img.split('.')[0] + '_{}x{}.jpg'.format(wh,wh)\n",
    "        resize_img(name, new_path, wh)\n",
    "    print('Done {} / {}. Class - {}'.format(folder_names.index(fn) + 1, len(folder_names), fn))"
   ]
  },
  {
   "cell_type": "markdown",
   "metadata": {},
   "source": [
    "## Разбиение выборки на равные части"
   ]
  },
  {
   "cell_type": "code",
   "execution_count": 131,
   "metadata": {},
   "outputs": [],
   "source": [
    "def get_segment_stat(test_folder_name, train_folder_name, folder_names_list):\n",
    "    test_fn = test_folder_name\n",
    "    train_fn = train_folder_name\n",
    "    \n",
    "    stat_dict = {'class_name' : folder_names_list, train_fn : [], test_fn : [] }\n",
    "    \n",
    "    for st in [train_fn, test_fn]:\n",
    "        for name in os.listdir(st):\n",
    "            stat_dict[st].append(len(glob.glob(f\"{st}\\\\{name}\\\\*.jpg\")))\n",
    "            \n",
    "    stat_df = pd.DataFrame(stat_dict)\n",
    "    stat_df['all'] = stat_df[train_fn] + stat_df[test_fn]\n",
    "    return stat_df"
   ]
  },
  {
   "cell_type": "code",
   "execution_count": 133,
   "metadata": {},
   "outputs": [
    {
     "data": {
      "text/html": [
       "<div>\n",
       "<style scoped>\n",
       "    .dataframe tbody tr th:only-of-type {\n",
       "        vertical-align: middle;\n",
       "    }\n",
       "\n",
       "    .dataframe tbody tr th {\n",
       "        vertical-align: top;\n",
       "    }\n",
       "\n",
       "    .dataframe thead th {\n",
       "        text-align: right;\n",
       "    }\n",
       "</style>\n",
       "<table border=\"1\" class=\"dataframe\">\n",
       "  <thead>\n",
       "    <tr style=\"text-align: right;\">\n",
       "      <th></th>\n",
       "      <th>class_name</th>\n",
       "      <th>train32x32</th>\n",
       "      <th>test32x32</th>\n",
       "      <th>all</th>\n",
       "    </tr>\n",
       "  </thead>\n",
       "  <tbody>\n",
       "    <tr>\n",
       "      <th>0</th>\n",
       "      <td>nevus</td>\n",
       "      <td>93</td>\n",
       "      <td>37</td>\n",
       "      <td>130</td>\n",
       "    </tr>\n",
       "    <tr>\n",
       "      <th>1</th>\n",
       "      <td>pigmented benign keratosis</td>\n",
       "      <td>349</td>\n",
       "      <td>165</td>\n",
       "      <td>514</td>\n",
       "    </tr>\n",
       "    <tr>\n",
       "      <th>2</th>\n",
       "      <td>melanoma</td>\n",
       "      <td>82</td>\n",
       "      <td>33</td>\n",
       "      <td>115</td>\n",
       "    </tr>\n",
       "    <tr>\n",
       "      <th>3</th>\n",
       "      <td>dermatofibroma</td>\n",
       "      <td>717</td>\n",
       "      <td>396</td>\n",
       "      <td>1113</td>\n",
       "    </tr>\n",
       "    <tr>\n",
       "      <th>4</th>\n",
       "      <td>basal cell carcinoma</td>\n",
       "      <td>4479</td>\n",
       "      <td>2226</td>\n",
       "      <td>6705</td>\n",
       "    </tr>\n",
       "    <tr>\n",
       "      <th>5</th>\n",
       "      <td>squamous cell carcinoma</td>\n",
       "      <td>756</td>\n",
       "      <td>343</td>\n",
       "      <td>1099</td>\n",
       "    </tr>\n",
       "    <tr>\n",
       "      <th>6</th>\n",
       "      <td>vascular lesion</td>\n",
       "      <td>137</td>\n",
       "      <td>60</td>\n",
       "      <td>197</td>\n",
       "    </tr>\n",
       "    <tr>\n",
       "      <th>7</th>\n",
       "      <td>actinic keratosis</td>\n",
       "      <td>97</td>\n",
       "      <td>45</td>\n",
       "      <td>142</td>\n",
       "    </tr>\n",
       "  </tbody>\n",
       "</table>\n",
       "</div>"
      ],
      "text/plain": [
       "                   class_name  train32x32  test32x32   all\n",
       "0                       nevus          93         37   130\n",
       "1  pigmented benign keratosis         349        165   514\n",
       "2                    melanoma          82         33   115\n",
       "3              dermatofibroma         717        396  1113\n",
       "4        basal cell carcinoma        4479       2226  6705\n",
       "5     squamous cell carcinoma         756        343  1099\n",
       "6             vascular lesion         137         60   197\n",
       "7           actinic keratosis          97         45   142"
      ]
     },
     "execution_count": 133,
     "metadata": {},
     "output_type": "execute_result"
    }
   ],
   "source": [
    "get_segment_stat(\"test32x32\", \"train32x32\", folder_names)"
   ]
  },
  {
   "cell_type": "code",
   "execution_count": 116,
   "metadata": {},
   "outputs": [
    {
     "name": "stdout",
     "output_type": "stream",
     "text": [
      "total = train + test\n",
      "115  =  82  +  33\n"
     ]
    }
   ],
   "source": [
    "total_lim = stat_df['all'].min()\n",
    "test_lim = int(total_lim * ts)\n",
    "train_lim = total_lim - test_lim\n",
    "print(\"total = train + test\")\n",
    "print(total_lim, \" = \", train_lim, \" + \", test_lim)"
   ]
  },
  {
   "cell_type": "code",
   "execution_count": 35,
   "metadata": {},
   "outputs": [],
   "source": [
    "for fn in folder_names:\n",
    "    train_folder = f'train{wh}x{wh}_{total_lim}/' + fn\n",
    "    test_folder = f'test{wh}x{wh}_{total_lim}/' + fn\n",
    "    if not os.path.exists(train_folder):\n",
    "        os.makedirs(train_folder)\n",
    "    if not os.path.exists(test_folder):\n",
    "        os.makedirs(test_folder)"
   ]
  },
  {
   "cell_type": "code",
   "execution_count": null,
   "metadata": {},
   "outputs": [],
   "source": [
    "# train =  list[:train_lim]\n",
    "# test = list[ (-1) * (len(list) - train_lim):]"
   ]
  },
  {
   "cell_type": "code",
   "execution_count": 128,
   "metadata": {},
   "outputs": [
    {
     "name": "stdout",
     "output_type": "stream",
     "text": [
      "train32x32\n",
      "actinic keratosis 82 / 93\n",
      "basal cell carcinoma 82 / 349\n",
      "dermatofibroma 82 / 82\n",
      "melanoma 82 / 717\n",
      "nevus 82 / 4479\n",
      "pigmented benign keratosis 82 / 756\n",
      "squamous cell carcinoma 82 / 137\n",
      "vascular lesion 82 / 97\n"
     ]
    }
   ],
   "source": [
    "train_fn = f'train{wh}x{wh}'\n",
    "print(train_fn)\n",
    "for clname in os.listdir(train_fn):\n",
    "    img_names = os.listdir(f\"{train_fn}\\\\{clname}\\\\\")\n",
    "    random.shuffle(img_names)\n",
    "    selected_names = img_names[:train_lim]\n",
    "    print(clname, len(selected_names), \"/\", len(img_names))\n",
    "    for name in selected_names:\n",
    "        old_path = f\"{train_fn}\\\\{clname}\\\\{name}\"\n",
    "        new_path = f\"{train_fn}_{total_lim}\\\\{clname}\\\\{name}\"\n",
    "        copyfile(old_path, new_path)"
   ]
  },
  {
   "cell_type": "code",
   "execution_count": 130,
   "metadata": {},
   "outputs": [
    {
     "name": "stdout",
     "output_type": "stream",
     "text": [
      "test32x32\n",
      "actinic keratosis 33 / 37\n",
      "basal cell carcinoma 33 / 165\n",
      "dermatofibroma 33 / 33\n",
      "melanoma 33 / 396\n",
      "nevus 33 / 2226\n",
      "pigmented benign keratosis 33 / 343\n",
      "squamous cell carcinoma 33 / 60\n",
      "vascular lesion 33 / 45\n"
     ]
    }
   ],
   "source": [
    "test_fn = f'test{wh}x{wh}'\n",
    "print(test_fn)\n",
    "for clname in os.listdir(test_fn):\n",
    "    img_names = os.listdir(f\"{test_fn}\\\\{clname}\\\\\")\n",
    "    random.shuffle(img_names)\n",
    "    selected_names = img_names[:test_lim]\n",
    "    print(clname, len(selected_names), \"/\", len(img_names))\n",
    "    for name in selected_names:\n",
    "        old_path = f\"{test_fn}\\\\{clname}\\\\{name}\"\n",
    "        new_path = f\"{test_fn}_{total_lim}\\\\{clname}\\\\{name}\"\n",
    "        copyfile(old_path, new_path)"
   ]
  },
  {
   "cell_type": "code",
   "execution_count": 134,
   "metadata": {},
   "outputs": [
    {
     "data": {
      "text/html": [
       "<div>\n",
       "<style scoped>\n",
       "    .dataframe tbody tr th:only-of-type {\n",
       "        vertical-align: middle;\n",
       "    }\n",
       "\n",
       "    .dataframe tbody tr th {\n",
       "        vertical-align: top;\n",
       "    }\n",
       "\n",
       "    .dataframe thead th {\n",
       "        text-align: right;\n",
       "    }\n",
       "</style>\n",
       "<table border=\"1\" class=\"dataframe\">\n",
       "  <thead>\n",
       "    <tr style=\"text-align: right;\">\n",
       "      <th></th>\n",
       "      <th>class_name</th>\n",
       "      <th>train32x32_115</th>\n",
       "      <th>test32x32_115</th>\n",
       "      <th>all</th>\n",
       "    </tr>\n",
       "  </thead>\n",
       "  <tbody>\n",
       "    <tr>\n",
       "      <th>0</th>\n",
       "      <td>nevus</td>\n",
       "      <td>82</td>\n",
       "      <td>33</td>\n",
       "      <td>115</td>\n",
       "    </tr>\n",
       "    <tr>\n",
       "      <th>1</th>\n",
       "      <td>pigmented benign keratosis</td>\n",
       "      <td>82</td>\n",
       "      <td>33</td>\n",
       "      <td>115</td>\n",
       "    </tr>\n",
       "    <tr>\n",
       "      <th>2</th>\n",
       "      <td>melanoma</td>\n",
       "      <td>82</td>\n",
       "      <td>33</td>\n",
       "      <td>115</td>\n",
       "    </tr>\n",
       "    <tr>\n",
       "      <th>3</th>\n",
       "      <td>dermatofibroma</td>\n",
       "      <td>82</td>\n",
       "      <td>33</td>\n",
       "      <td>115</td>\n",
       "    </tr>\n",
       "    <tr>\n",
       "      <th>4</th>\n",
       "      <td>basal cell carcinoma</td>\n",
       "      <td>82</td>\n",
       "      <td>33</td>\n",
       "      <td>115</td>\n",
       "    </tr>\n",
       "    <tr>\n",
       "      <th>5</th>\n",
       "      <td>squamous cell carcinoma</td>\n",
       "      <td>82</td>\n",
       "      <td>33</td>\n",
       "      <td>115</td>\n",
       "    </tr>\n",
       "    <tr>\n",
       "      <th>6</th>\n",
       "      <td>vascular lesion</td>\n",
       "      <td>82</td>\n",
       "      <td>33</td>\n",
       "      <td>115</td>\n",
       "    </tr>\n",
       "    <tr>\n",
       "      <th>7</th>\n",
       "      <td>actinic keratosis</td>\n",
       "      <td>82</td>\n",
       "      <td>33</td>\n",
       "      <td>115</td>\n",
       "    </tr>\n",
       "  </tbody>\n",
       "</table>\n",
       "</div>"
      ],
      "text/plain": [
       "                   class_name  train32x32_115  test32x32_115  all\n",
       "0                       nevus              82             33  115\n",
       "1  pigmented benign keratosis              82             33  115\n",
       "2                    melanoma              82             33  115\n",
       "3              dermatofibroma              82             33  115\n",
       "4        basal cell carcinoma              82             33  115\n",
       "5     squamous cell carcinoma              82             33  115\n",
       "6             vascular lesion              82             33  115\n",
       "7           actinic keratosis              82             33  115"
      ]
     },
     "execution_count": 134,
     "metadata": {},
     "output_type": "execute_result"
    }
   ],
   "source": [
    "get_segment_stat(\"test32x32_115\", \"train32x32_115\", folder_names)"
   ]
  }
 ],
 "metadata": {
  "kernelspec": {
   "display_name": "Python 3",
   "language": "python",
   "name": "python3"
  },
  "language_info": {
   "codemirror_mode": {
    "name": "ipython",
    "version": 3
   },
   "file_extension": ".py",
   "mimetype": "text/x-python",
   "name": "python",
   "nbconvert_exporter": "python",
   "pygments_lexer": "ipython3",
   "version": "3.7.1"
  }
 },
 "nbformat": 4,
 "nbformat_minor": 2
}
