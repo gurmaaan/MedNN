{
 "cells": [
  {
   "cell_type": "code",
   "execution_count": 1,
   "metadata": {},
   "outputs": [],
   "source": [
    "import pandas as pd\n",
    "from sklearn.model_selection import train_test_split\n",
    "import seaborn as sns"
   ]
  },
  {
   "cell_type": "code",
   "execution_count": 2,
   "metadata": {},
   "outputs": [
    {
     "data": {
      "text/html": [
       "<div>\n",
       "<style scoped>\n",
       "    .dataframe tbody tr th:only-of-type {\n",
       "        vertical-align: middle;\n",
       "    }\n",
       "\n",
       "    .dataframe tbody tr th {\n",
       "        vertical-align: top;\n",
       "    }\n",
       "\n",
       "    .dataframe thead th {\n",
       "        text-align: right;\n",
       "    }\n",
       "</style>\n",
       "<table border=\"1\" class=\"dataframe\">\n",
       "  <thead>\n",
       "    <tr style=\"text-align: right;\">\n",
       "      <th></th>\n",
       "      <th>Unnamed: 0</th>\n",
       "      <th>id</th>\n",
       "      <th>name</th>\n",
       "      <th>type</th>\n",
       "      <th>w</th>\n",
       "      <th>h</th>\n",
       "      <th>dataset</th>\n",
       "      <th>diagnosis</th>\n",
       "      <th>diagnosis_confirm_type</th>\n",
       "      <th>age</th>\n",
       "      <th>sex</th>\n",
       "    </tr>\n",
       "  </thead>\n",
       "  <tbody>\n",
       "    <tr>\n",
       "      <th>0</th>\n",
       "      <td>0</td>\n",
       "      <td>5aaf12491165976913627e89</td>\n",
       "      <td>ISIC_0024306</td>\n",
       "      <td>dermoscopic</td>\n",
       "      <td>600</td>\n",
       "      <td>450</td>\n",
       "      <td>HAM10000</td>\n",
       "      <td>nevus</td>\n",
       "      <td>serial imaging showing no change</td>\n",
       "      <td>45</td>\n",
       "      <td>male</td>\n",
       "    </tr>\n",
       "    <tr>\n",
       "      <th>1</th>\n",
       "      <td>1</td>\n",
       "      <td>5aaf12491165976913627e95</td>\n",
       "      <td>ISIC_0024307</td>\n",
       "      <td>dermoscopic</td>\n",
       "      <td>600</td>\n",
       "      <td>450</td>\n",
       "      <td>HAM10000</td>\n",
       "      <td>nevus</td>\n",
       "      <td>serial imaging showing no change</td>\n",
       "      <td>50</td>\n",
       "      <td>male</td>\n",
       "    </tr>\n",
       "    <tr>\n",
       "      <th>2</th>\n",
       "      <td>2</td>\n",
       "      <td>5aaf12491165976913627ea0</td>\n",
       "      <td>ISIC_0024308</td>\n",
       "      <td>dermoscopic</td>\n",
       "      <td>600</td>\n",
       "      <td>450</td>\n",
       "      <td>HAM10000</td>\n",
       "      <td>nevus</td>\n",
       "      <td>serial imaging showing no change</td>\n",
       "      <td>55</td>\n",
       "      <td>female</td>\n",
       "    </tr>\n",
       "    <tr>\n",
       "      <th>3</th>\n",
       "      <td>3</td>\n",
       "      <td>5aaf12491165976913627eab</td>\n",
       "      <td>ISIC_0024309</td>\n",
       "      <td>dermoscopic</td>\n",
       "      <td>600</td>\n",
       "      <td>450</td>\n",
       "      <td>HAM10000</td>\n",
       "      <td>nevus</td>\n",
       "      <td>serial imaging showing no change</td>\n",
       "      <td>40</td>\n",
       "      <td>male</td>\n",
       "    </tr>\n",
       "    <tr>\n",
       "      <th>4</th>\n",
       "      <td>4</td>\n",
       "      <td>5aaf12491165976913627eb6</td>\n",
       "      <td>ISIC_0024310</td>\n",
       "      <td>dermoscopic</td>\n",
       "      <td>600</td>\n",
       "      <td>450</td>\n",
       "      <td>HAM10000</td>\n",
       "      <td>melanoma</td>\n",
       "      <td>histopathology</td>\n",
       "      <td>60</td>\n",
       "      <td>male</td>\n",
       "    </tr>\n",
       "  </tbody>\n",
       "</table>\n",
       "</div>"
      ],
      "text/plain": [
       "   Unnamed: 0                        id          name         type    w    h  \\\n",
       "0           0  5aaf12491165976913627e89  ISIC_0024306  dermoscopic  600  450   \n",
       "1           1  5aaf12491165976913627e95  ISIC_0024307  dermoscopic  600  450   \n",
       "2           2  5aaf12491165976913627ea0  ISIC_0024308  dermoscopic  600  450   \n",
       "3           3  5aaf12491165976913627eab  ISIC_0024309  dermoscopic  600  450   \n",
       "4           4  5aaf12491165976913627eb6  ISIC_0024310  dermoscopic  600  450   \n",
       "\n",
       "    dataset diagnosis            diagnosis_confirm_type  age     sex  \n",
       "0  HAM10000     nevus  serial imaging showing no change   45    male  \n",
       "1  HAM10000     nevus  serial imaging showing no change   50    male  \n",
       "2  HAM10000     nevus  serial imaging showing no change   55  female  \n",
       "3  HAM10000     nevus  serial imaging showing no change   40    male  \n",
       "4  HAM10000  melanoma                    histopathology   60    male  "
      ]
     },
     "execution_count": 2,
     "metadata": {},
     "output_type": "execute_result"
    }
   ],
   "source": [
    "df = pd.read_csv('training.csv')\n",
    "# df.drop('Unnamed: 0', axis=1, inplace=True)\n",
    "df.head()"
   ]
  },
  {
   "cell_type": "code",
   "execution_count": 3,
   "metadata": {},
   "outputs": [],
   "source": [
    "X = df['name']\n",
    "y = df['diagnosis']\n",
    "X_train, X_test, y_train, y_test = train_test_split(X, y, test_size=0.33, random_state=42)"
   ]
  },
  {
   "cell_type": "code",
   "execution_count": 4,
   "metadata": {},
   "outputs": [
    {
     "data": {
      "text/plain": [
       "<matplotlib.axes._subplots.AxesSubplot at 0x16452a40a20>"
      ]
     },
     "execution_count": 4,
     "metadata": {},
     "output_type": "execute_result"
    },
    {
     "data": {
      "image/png": "[encoded data removed]",
      "text/plain": [
       "<Figure size 432x288 with 1 Axes>"
      ]
     },
     "metadata": {
      "needs_background": "light"
     },
     "output_type": "display_data"
    }
   ],
   "source": [
    "sns.countplot(y_test)"
   ]
  },
  {
   "cell_type": "code",
   "execution_count": 5,
   "metadata": {},
   "outputs": [
    {
     "data": {
      "text/plain": [
       "<matplotlib.axes._subplots.AxesSubplot at 0x16452aeec50>"
      ]
     },
     "execution_count": 5,
     "metadata": {},
     "output_type": "execute_result"
    },
    {
     "data": {
      "image/png": "[encoded data removed]",
      "text/plain": [
       "<Figure size 432x288 with 1 Axes>"
      ]
     },
     "metadata": {
      "needs_background": "light"
     },
     "output_type": "display_data"
    }
   ],
   "source": [
    "sns.countplot(y_train)"
   ]
  },
  {
   "cell_type": "code",
   "execution_count": 6,
   "metadata": {},
   "outputs": [
    {
     "data": {
      "text/plain": [
       "['nevus',\n",
       " 'pigmented benign keratosis',\n",
       " 'melanoma',\n",
       " 'dermatofibroma',\n",
       " 'basal cell carcinoma',\n",
       " 'squamous cell carcinoma',\n",
       " 'vascular lesion',\n",
       " 'actinic keratosis']"
      ]
     },
     "execution_count": 6,
     "metadata": {},
     "output_type": "execute_result"
    }
   ],
   "source": [
    "folder_names = list(y_train.unique())\n",
    "folder_names"
   ]
  },
  {
   "cell_type": "code",
   "execution_count": 7,
   "metadata": {},
   "outputs": [],
   "source": [
    "import os\n",
    "for fn in folder_names:\n",
    "    os.mkdir('train/' + fn)\n",
    "    os.mkdir('test/' + fn)"
   ]
  },
  {
   "cell_type": "code",
   "execution_count": 11,
   "metadata": {},
   "outputs": [],
   "source": [
    "X_train_list = list(X_train)\n",
    "y_train_list = list(y_train)\n",
    "for i in range(len(X_train_list)):\n",
    "    old_path = 'img/' + X_train_list[i] + \".jpg\"\n",
    "    new_path = 'train' + '/' + y_train_list[i] + '/' + X_train_list[i] + \".jpg\"\n",
    "    os.replace(old_path, new_path)"
   ]
  },
  {
   "cell_type": "code",
   "execution_count": 12,
   "metadata": {},
   "outputs": [],
   "source": [
    "X_test_list = list(X_test)\n",
    "y_test_list = list(y_test)\n",
    "for i in range(len(X_test_list)):\n",
    "    old_path = 'img/' + X_test_list[i] + \".jpg\"\n",
    "    new_path = 'test/' + y_test_list[i] + '/' + X_test_list[i] + \".jpg\"\n",
    "    os.replace(old_path, new_path)"
   ]
  },
  {
   "cell_type": "code",
   "execution_count": null,
   "metadata": {},
   "outputs": [],
   "source": []
  }
 ],
 "metadata": {
  "kernelspec": {
   "display_name": "Python 3",
   "language": "python",
   "name": "python3"
  },
  "language_info": {
   "codemirror_mode": {
    "name": "ipython",
    "version": 3
   },
   "file_extension": ".py",
   "mimetype": "text/x-python",
   "name": "python",
   "nbconvert_exporter": "python",
   "pygments_lexer": "ipython3",
   "version": "3.7.1"
  }
 },
 "nbformat": 4,
 "nbformat_minor": 2
}
