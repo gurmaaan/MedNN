{
 "cells": [
  {
   "cell_type": "markdown",
   "metadata": {},
   "source": [
    "# Обучение сверточной нейросети на датасете HAM10000"
   ]
  },
  {
   "cell_type": "markdown",
   "metadata": {},
   "source": [
    "## Импорт необходимых библиотек "
   ]
  },
  {
   "cell_type": "code",
   "execution_count": 4,
   "metadata": {},
   "outputs": [],
   "source": [
    "# General\n",
    "import numpy as np\n",
    "import matplotlib.pyplot as plt\n",
    "# PyTorch\n",
    "from torchvision.datasets import ImageFolder\n",
    "from torch.utils.data import DataLoader\n",
    "import torchvision.transforms as transforms\n",
    "import torch.nn as nn\n",
    "import torchvision\n",
    "import torch.nn.functional as F\n",
    "import torch\n",
    "import torch.optim as optim\n",
    "# classic ML\n",
    "from sklearn.metrics import accuracy_score, precision_score, recall_score, f1_score, roc_auc_score\n",
    "import pandas as pd"
   ]
  },
  {
   "cell_type": "code",
   "execution_count": 5,
   "metadata": {},
   "outputs": [],
   "source": [
    "num_epochs = 5\n",
    "# num_classes = 8\n",
    "batch_size = 4\n",
    "learning_rate = 0.001"
   ]
  },
  {
   "cell_type": "markdown",
   "metadata": {},
   "source": [
    "## Перевод изображений в тензоры"
   ]
  },
  {
   "cell_type": "markdown",
   "metadata": {},
   "source": [
    "Все изображения изначально поделены на папки **train** и **test**. \n",
    "В каждой папке изображения лежат по папкам классов. \n",
    "На 1 класс одна папка. \n",
    "Количество представителей каждого из классов распределены в одинаковых пропорциях в train и test выборке. \n",
    "Про то как производилось распределение подробно в [блокноте](https://github.com/gurmaaan/MedNN/blob/master/Sort_img_into_folders.ipynb)"
   ]
  },
  {
   "cell_type": "markdown",
   "metadata": {},
   "source": [
    "Определяем каскад трансформаций, который будут осуществляться над каждым изображением выборки перед попаданием на обучение / тестирование нейронной сети.\n",
    "\n",
    "Каскад - массив трансформаций, каждая из которых будет применена к изображению последовательно одна за одной.\n",
    "Каскад реализуется с помощью _Compose_.\n",
    "* ToTensor - конвертирует изображение в Тензор \n",
    "* Normalize - приводит тензор к нормальному распределению со матожиданием ... и СКО ... МО и СКО указываются для каждой компоненты пикселя "
   ]
  },
  {
   "cell_type": "code",
   "execution_count": 6,
   "metadata": {},
   "outputs": [
    {
     "data": {
      "text/plain": [
       "[ToTensor(), Normalize(mean=(0.5, 0.5, 0.5), std=(0.5, 0.5, 0.5))]"
      ]
     },
     "execution_count": 6,
     "metadata": {},
     "output_type": "execute_result"
    }
   ],
   "source": [
    "transform = transforms.Compose\n",
    "(\n",
    "    [\n",
    "         transforms.ToTensor(),\n",
    "         transforms.Normalize((0.5, 0.5, 0.5), (0.5, 0.5, 0.5), inplace=True)\n",
    "    ]\n",
    ")"
   ]
  },
  {
   "cell_type": "markdown",
   "metadata": {},
   "source": [
    "Ниже игрушечный пример как работает трансформация изображений"
   ]
  },
  {
   "cell_type": "code",
   "execution_count": 7,
   "metadata": {},
   "outputs": [],
   "source": [
    "from PIL import Image\n",
    "img = Image.open('image.jpg')\n",
    "d_t = transforms.ToTensor()(img)\n",
    "# d_t[компонента цвета][номер столбца в изображении (координата х)] - содержит в себе массив преобразованных координат y данной строки\n",
    "# d_t[2][0]"
   ]
  },
  {
   "cell_type": "markdown",
   "metadata": {},
   "source": [
    "Теперь дадим понять torch'у к каким изображениям применять описанную выше трансформацию и к каким классам относятся изображения.\n",
    "Для этого используется класс ImageFolder.\n",
    "Он загружает папку в которой изображения распиханы по классам-папкам как описано выше. \n",
    "```\n",
    "/root/class1/11.jpg\n",
    "/root/class1/12.jpg\n",
    "/root/class2/21.jpg\n",
    "/root/class2/22.jpg\n",
    "```"
   ]
  },
  {
   "cell_type": "code",
   "execution_count": 8,
   "metadata": {},
   "outputs": [],
   "source": [
    "train_folder = ImageFolder(root='train32x32', transform=transforms.ToTensor())\n",
    "test_folder = ImageFolder(root='test32x32', transform=transforms.ToTensor())\n",
    "# так почему-то не работает\n",
    "# train_folder = ImageFolder(root='train', transform=transform)\n",
    "# valid_folder = ImageFolder(root='valid', transform=transform)"
   ]
  },
  {
   "cell_type": "markdown",
   "metadata": {},
   "source": [
    "Теперь я могу узнать размер выборки, распределение по классам, сами классы и т.д."
   ]
  },
  {
   "cell_type": "code",
   "execution_count": 9,
   "metadata": {},
   "outputs": [
    {
     "data": {
      "text/plain": [
       "['actinic keratosis',\n",
       " 'basal cell carcinoma',\n",
       " 'dermatofibroma',\n",
       " 'melanoma',\n",
       " 'nevus',\n",
       " 'pigmented benign keratosis',\n",
       " 'squamous cell carcinoma',\n",
       " 'vascular lesion']"
      ]
     },
     "execution_count": 9,
     "metadata": {},
     "output_type": "execute_result"
    }
   ],
   "source": [
    "class_labels = list(train_folder.classes)\n",
    "num_classes = len(class_labels)\n",
    "class_labels"
   ]
  },
  {
   "cell_type": "code",
   "execution_count": 10,
   "metadata": {},
   "outputs": [
    {
     "data": {
      "text/plain": [
       "6710"
      ]
     },
     "execution_count": 10,
     "metadata": {},
     "output_type": "execute_result"
    }
   ],
   "source": [
    "len(train_folder)"
   ]
  },
  {
   "cell_type": "markdown",
   "metadata": {},
   "source": [
    "После этого превратим наши изображения в тренировочную и тестовую выборки для будущей нейросети. \n",
    "Для этого используется класс DataLoader.\n",
    "Он позволяет выдавать случайные выборки и многое другое. \n",
    "Выжный параметр деления всей тренировочной выборки на группы:\n",
    "* batch_size - сколько изображений содержится в 1 группе"
   ]
  },
  {
   "cell_type": "code",
   "execution_count": 11,
   "metadata": {},
   "outputs": [],
   "source": [
    "train_loader = DataLoader(train_folder, batch_size=batch_size, shuffle=True)\n",
    "test_loader = DataLoader(test_folder, batch_size=batch_size, shuffle=True)"
   ]
  },
  {
   "cell_type": "markdown",
   "metadata": {},
   "source": [
    "Посмотрим что содержится в одном батче"
   ]
  },
  {
   "cell_type": "code",
   "execution_count": 12,
   "metadata": {},
   "outputs": [],
   "source": [
    "train_iter = iter(train_loader)"
   ]
  },
  {
   "cell_type": "code",
   "execution_count": 13,
   "metadata": {},
   "outputs": [],
   "source": [
    "train_images, train_labels = train_iter.next()"
   ]
  },
  {
   "cell_type": "code",
   "execution_count": 14,
   "metadata": {},
   "outputs": [],
   "source": [
    "classes = train_folder.class_to_idx\n",
    "classes_map = dict((v,k) for k,v in classes.items())"
   ]
  },
  {
   "cell_type": "code",
   "execution_count": 15,
   "metadata": {},
   "outputs": [],
   "source": [
    "def label_encoder(class_dict, labels):\n",
    "    print('Labels:', ' | '.join('%5s' % class_dict[l.item()] for l in labels))"
   ]
  },
  {
   "cell_type": "code",
   "execution_count": 16,
   "metadata": {},
   "outputs": [],
   "source": [
    "def imshow(img):\n",
    "    img = img / 2 + 0.5     # unnormalize\n",
    "    npimg = img.numpy()\n",
    "    plt.imshow(np.transpose(npimg, (1, 2, 0)))\n",
    "    plt.show()"
   ]
  },
  {
   "cell_type": "code",
   "execution_count": 17,
   "metadata": {},
   "outputs": [
    {
     "data": {
      "image/png": "[encoded data removed]",
      "text/plain": [
       "<Figure size 432x288 with 1 Axes>"
      ]
     },
     "metadata": {
      "needs_background": "light"
     },
     "output_type": "display_data"
    },
    {
     "name": "stdout",
     "output_type": "stream",
     "text": [
      "Labels: nevus | pigmented benign keratosis | actinic keratosis | squamous cell carcinoma\n"
     ]
    }
   ],
   "source": [
    "imshow(torchvision.utils.make_grid(train_images))\n",
    "label_encoder(classes_map, train_labels)"
   ]
  },
  {
   "cell_type": "markdown",
   "metadata": {},
   "source": [
    "## Определение архитектуры нейросети"
   ]
  },
  {
   "cell_type": "code",
   "execution_count": 18,
   "metadata": {},
   "outputs": [],
   "source": [
    "class Net(nn.Module):\n",
    "    def __init__(self):\n",
    "        super(Net, self).__init__()\n",
    "        self.conv1 = nn.Conv2d(3, 6, 5)\n",
    "        self.pool = nn.MaxPool2d(2, 2)\n",
    "        self.conv2 = nn.Conv2d(6, 16, 5)\n",
    "        self.fc1 = nn.Linear(16 * 5 * 5, 120)\n",
    "        self.fc2 = nn.Linear(120, 84)\n",
    "        self.fc3 = nn.Linear(84, 8)\n",
    "\n",
    "    def forward(self, x):\n",
    "        x = self.pool(F.relu(self.conv1(x)))\n",
    "        x = self.pool(F.relu(self.conv2(x)))\n",
    "        x = x.view(-1, 16 * 5 * 5)\n",
    "        x = F.relu(self.fc1(x))\n",
    "        x = F.relu(self.fc2(x))\n",
    "        x = self.fc3(x)\n",
    "        return x"
   ]
  },
  {
   "cell_type": "code",
   "execution_count": 29,
   "metadata": {},
   "outputs": [
    {
     "name": "stdout",
     "output_type": "stream",
     "text": [
      "Net(\n",
      "  (conv1): Conv2d(3, 6, kernel_size=(5, 5), stride=(1, 1))\n",
      "  (pool): MaxPool2d(kernel_size=2, stride=2, padding=0, dilation=1, ceil_mode=False)\n",
      "  (conv2): Conv2d(6, 16, kernel_size=(5, 5), stride=(1, 1))\n",
      "  (fc1): Linear(in_features=400, out_features=120, bias=True)\n",
      "  (fc2): Linear(in_features=120, out_features=84, bias=True)\n",
      "  (fc3): Linear(in_features=84, out_features=8, bias=True)\n",
      ")\n",
      "10\n",
      "torch.Size([6, 3, 5, 5])\n"
     ]
    }
   ],
   "source": [
    "net = Net()\n",
    "print(net)\n",
    "params = list(net.parameters())\n",
    "print(len(params))\n",
    "print(params[0].size())  # conv1's .weight"
   ]
  },
  {
   "cell_type": "code",
   "execution_count": 30,
   "metadata": {},
   "outputs": [],
   "source": [
    "criterion = nn.CrossEntropyLoss()\n",
    "optimizer = optim.SGD(net.parameters(), lr=learning_rate, momentum=0.9)"
   ]
  },
  {
   "cell_type": "markdown",
   "metadata": {},
   "source": [
    "## Обучаем нейросеть "
   ]
  },
  {
   "cell_type": "code",
   "execution_count": 31,
   "metadata": {},
   "outputs": [
    {
     "name": "stdout",
     "output_type": "stream",
     "text": [
      "[1,    10] loss: 0.010\n",
      "[1,    20] loss: 0.010\n",
      "[1,    30] loss: 0.011\n",
      "[1,    40] loss: 0.010\n",
      "[1,    50] loss: 0.010\n",
      "[1,    60] loss: 0.010\n",
      "[1,    70] loss: 0.010\n",
      "[1,    80] loss: 0.010\n",
      "[1,    90] loss: 0.010\n",
      "[1,   100] loss: 0.010\n",
      "[1,   110] loss: 0.010\n",
      "[1,   120] loss: 0.010\n",
      "[1,   130] loss: 0.010\n",
      "[1,   140] loss: 0.010\n",
      "[1,   150] loss: 0.010\n",
      "[1,   160] loss: 0.010\n",
      "Epoch 0 ------------\n",
      "[2,    10] loss: 0.010\n",
      "[2,    20] loss: 0.010\n",
      "[2,    30] loss: 0.010\n",
      "[2,    40] loss: 0.010\n",
      "[2,    50] loss: 0.010\n",
      "[2,    60] loss: 0.010\n",
      "[2,    70] loss: 0.010\n",
      "[2,    80] loss: 0.011\n",
      "[2,    90] loss: 0.010\n",
      "[2,   100] loss: 0.010\n",
      "[2,   110] loss: 0.010\n",
      "[2,   120] loss: 0.010\n",
      "[2,   130] loss: 0.010\n",
      "[2,   140] loss: 0.010\n",
      "[2,   150] loss: 0.010\n",
      "[2,   160] loss: 0.010\n",
      "Epoch 1 ------------\n",
      "[3,    10] loss: 0.010\n",
      "[3,    20] loss: 0.010\n",
      "[3,    30] loss: 0.010\n",
      "[3,    40] loss: 0.010\n",
      "[3,    50] loss: 0.010\n",
      "[3,    60] loss: 0.010\n",
      "[3,    70] loss: 0.010\n",
      "[3,    80] loss: 0.010\n",
      "[3,    90] loss: 0.010\n",
      "[3,   100] loss: 0.010\n",
      "[3,   110] loss: 0.010\n",
      "[3,   120] loss: 0.010\n",
      "[3,   130] loss: 0.010\n",
      "[3,   140] loss: 0.010\n",
      "[3,   150] loss: 0.010\n",
      "[3,   160] loss: 0.010\n",
      "Epoch 2 ------------\n",
      "[4,    10] loss: 0.010\n",
      "[4,    20] loss: 0.010\n",
      "[4,    30] loss: 0.010\n",
      "[4,    40] loss: 0.010\n",
      "[4,    50] loss: 0.010\n",
      "[4,    60] loss: 0.010\n",
      "[4,    70] loss: 0.010\n",
      "[4,    80] loss: 0.010\n",
      "[4,    90] loss: 0.010\n",
      "[4,   100] loss: 0.010\n",
      "[4,   110] loss: 0.010\n",
      "[4,   120] loss: 0.010\n",
      "[4,   130] loss: 0.010\n",
      "[4,   140] loss: 0.010\n",
      "[4,   150] loss: 0.010\n",
      "[4,   160] loss: 0.010\n",
      "Epoch 3 ------------\n",
      "[5,    10] loss: 0.010\n",
      "[5,    20] loss: 0.010\n",
      "[5,    30] loss: 0.010\n",
      "[5,    40] loss: 0.010\n",
      "[5,    50] loss: 0.010\n",
      "[5,    60] loss: 0.010\n",
      "[5,    70] loss: 0.010\n",
      "[5,    80] loss: 0.010\n",
      "[5,    90] loss: 0.010\n",
      "[5,   100] loss: 0.010\n",
      "[5,   110] loss: 0.010\n",
      "[5,   120] loss: 0.010\n",
      "[5,   130] loss: 0.010\n",
      "[5,   140] loss: 0.010\n",
      "[5,   150] loss: 0.010\n",
      "[5,   160] loss: 0.010\n",
      "Epoch 4 ------------\n",
      "Finished Training\n"
     ]
    }
   ],
   "source": [
    "for epoch in range(num_epochs):  # loop over the dataset multiple times\n",
    "\n",
    "    running_loss = 0.0\n",
    "    for i, data in enumerate(train_loader, 0):\n",
    "        # get the inputs; data is a list of [inputs, labels]\n",
    "        inputs, labels = data\n",
    "\n",
    "        # zero the parameter gradients\n",
    "        optimizer.zero_grad()\n",
    "\n",
    "        # forward + backward + optimize\n",
    "        outputs = net(inputs)\n",
    "        loss = criterion(outputs, labels)\n",
    "        loss.backward()\n",
    "        optimizer.step()\n",
    "\n",
    "        # print statistics\n",
    "        running_loss += loss.item()\n",
    "        if i % 10 == 9:    # print every 10 mini-batches\n",
    "            print('[%d, %5d] loss: %.3f' %\n",
    "                  (epoch + 1, i + 1, running_loss / 2000))\n",
    "            running_loss = 0.0\n",
    "    print('Epoch {} ------------'.format(epoch))\n",
    "\n",
    "print('Finished Training')"
   ]
  },
  {
   "cell_type": "markdown",
   "metadata": {},
   "source": [
    "## Сохранение выученных коэффициентов"
   ]
  },
  {
   "cell_type": "code",
   "execution_count": 32,
   "metadata": {},
   "outputs": [],
   "source": [
    "coeff_path = './pytorch_cnn_coeff_32x32_115.pth'\n",
    "torch.save(net.state_dict(), coeff_path)"
   ]
  },
  {
   "cell_type": "markdown",
   "metadata": {},
   "source": [
    "## Проверка нейросети на способность предсказания"
   ]
  },
  {
   "cell_type": "markdown",
   "metadata": {},
   "source": [
    "Сначала грузим реальные картинки и метки классов"
   ]
  },
  {
   "cell_type": "code",
   "execution_count": 34,
   "metadata": {},
   "outputs": [],
   "source": [
    "test_iter = iter(test_loader)"
   ]
  },
  {
   "cell_type": "code",
   "execution_count": 36,
   "metadata": {},
   "outputs": [],
   "source": [
    "test_images, test_labels = test_iter.next()"
   ]
  },
  {
   "cell_type": "code",
   "execution_count": 37,
   "metadata": {},
   "outputs": [
    {
     "data": {
      "image/png": "[encoded data removed]",
      "text/plain": [
       "<Figure size 432x288 with 1 Axes>"
      ]
     },
     "metadata": {
      "needs_background": "light"
     },
     "output_type": "display_data"
    },
    {
     "name": "stdout",
     "output_type": "stream",
     "text": [
      "Labels: squamous cell carcinoma | melanoma | dermatofibroma | pigmented benign keratosis\n"
     ]
    }
   ],
   "source": [
    "imshow(torchvision.utils.make_grid(test_images))\n",
    "label_encoder(classes_map, test_labels)"
   ]
  },
  {
   "cell_type": "markdown",
   "metadata": {},
   "source": [
    "Теперь смотрим что угадает сеть"
   ]
  },
  {
   "cell_type": "code",
   "execution_count": 38,
   "metadata": {},
   "outputs": [
    {
     "data": {
      "text/plain": [
       "<All keys matched successfully>"
      ]
     },
     "execution_count": 38,
     "metadata": {},
     "output_type": "execute_result"
    }
   ],
   "source": [
    "net = Net()\n",
    "net.load_state_dict(torch.load(coeff_path))"
   ]
  },
  {
   "cell_type": "code",
   "execution_count": 39,
   "metadata": {},
   "outputs": [],
   "source": [
    "outputs = net(test_images)"
   ]
  },
  {
   "cell_type": "code",
   "execution_count": 40,
   "metadata": {},
   "outputs": [
    {
     "name": "stdout",
     "output_type": "stream",
     "text": [
      "Labels: vascular lesion | vascular lesion | vascular lesion | melanoma\n"
     ]
    }
   ],
   "source": [
    "_, prediction = torch.max(outputs, 1)\n",
    "label_encoder(classes_map, prediction)"
   ]
  },
  {
   "cell_type": "markdown",
   "metadata": {},
   "source": [
    "## Оценка accuracy всей валидационной выборки "
   ]
  },
  {
   "cell_type": "code",
   "execution_count": 41,
   "metadata": {},
   "outputs": [],
   "source": [
    "correct = 0\n",
    "total = 0\n",
    "real_labels = []\n",
    "pred_labels = []"
   ]
  },
  {
   "cell_type": "code",
   "execution_count": 42,
   "metadata": {},
   "outputs": [],
   "source": [
    "with torch.no_grad():\n",
    "    for data in test_loader:\n",
    "        images, labels = data\n",
    "        outputs = net(images)\n",
    "        _, predicted = torch.max(outputs.data, 1)\n",
    "        for l in labels:\n",
    "            real_labels.append(classes_map[l.item()])\n",
    "        for p in predicted:\n",
    "            pred_labels.append(classes_map[p.item()])"
   ]
  },
  {
   "cell_type": "code",
   "execution_count": 43,
   "metadata": {},
   "outputs": [
    {
     "data": {
      "text/html": [
       "<div>\n",
       "<style scoped>\n",
       "    .dataframe tbody tr th:only-of-type {\n",
       "        vertical-align: middle;\n",
       "    }\n",
       "\n",
       "    .dataframe tbody tr th {\n",
       "        vertical-align: top;\n",
       "    }\n",
       "\n",
       "    .dataframe thead th {\n",
       "        text-align: right;\n",
       "    }\n",
       "</style>\n",
       "<table border=\"1\" class=\"dataframe\">\n",
       "  <thead>\n",
       "    <tr style=\"text-align: right;\">\n",
       "      <th></th>\n",
       "      <th>real</th>\n",
       "      <th>pred</th>\n",
       "    </tr>\n",
       "  </thead>\n",
       "  <tbody>\n",
       "    <tr>\n",
       "      <th>0</th>\n",
       "      <td>melanoma</td>\n",
       "      <td>vascular lesion</td>\n",
       "    </tr>\n",
       "    <tr>\n",
       "      <th>1</th>\n",
       "      <td>vascular lesion</td>\n",
       "      <td>vascular lesion</td>\n",
       "    </tr>\n",
       "    <tr>\n",
       "      <th>2</th>\n",
       "      <td>vascular lesion</td>\n",
       "      <td>vascular lesion</td>\n",
       "    </tr>\n",
       "    <tr>\n",
       "      <th>3</th>\n",
       "      <td>actinic keratosis</td>\n",
       "      <td>vascular lesion</td>\n",
       "    </tr>\n",
       "    <tr>\n",
       "      <th>4</th>\n",
       "      <td>basal cell carcinoma</td>\n",
       "      <td>vascular lesion</td>\n",
       "    </tr>\n",
       "  </tbody>\n",
       "</table>\n",
       "</div>"
      ],
      "text/plain": [
       "                   real             pred\n",
       "0              melanoma  vascular lesion\n",
       "1       vascular lesion  vascular lesion\n",
       "2       vascular lesion  vascular lesion\n",
       "3     actinic keratosis  vascular lesion\n",
       "4  basal cell carcinoma  vascular lesion"
      ]
     },
     "execution_count": 43,
     "metadata": {},
     "output_type": "execute_result"
    }
   ],
   "source": [
    "result_df = pd.DataFrame(list(zip(real_labels, pred_labels)), columns =['real', 'pred']) \n",
    "result_df.head()"
   ]
  },
  {
   "cell_type": "code",
   "execution_count": 44,
   "metadata": {},
   "outputs": [
    {
     "data": {
      "text/html": [
       "<div>\n",
       "<style scoped>\n",
       "    .dataframe tbody tr th:only-of-type {\n",
       "        vertical-align: middle;\n",
       "    }\n",
       "\n",
       "    .dataframe tbody tr th {\n",
       "        vertical-align: top;\n",
       "    }\n",
       "\n",
       "    .dataframe thead th {\n",
       "        text-align: right;\n",
       "    }\n",
       "</style>\n",
       "<table border=\"1\" class=\"dataframe\">\n",
       "  <thead>\n",
       "    <tr style=\"text-align: right;\">\n",
       "      <th></th>\n",
       "      <th>real</th>\n",
       "      <th>pred</th>\n",
       "      <th>answer</th>\n",
       "    </tr>\n",
       "  </thead>\n",
       "  <tbody>\n",
       "    <tr>\n",
       "      <th>0</th>\n",
       "      <td>melanoma</td>\n",
       "      <td>vascular lesion</td>\n",
       "      <td>0</td>\n",
       "    </tr>\n",
       "    <tr>\n",
       "      <th>1</th>\n",
       "      <td>vascular lesion</td>\n",
       "      <td>vascular lesion</td>\n",
       "      <td>1</td>\n",
       "    </tr>\n",
       "    <tr>\n",
       "      <th>2</th>\n",
       "      <td>vascular lesion</td>\n",
       "      <td>vascular lesion</td>\n",
       "      <td>1</td>\n",
       "    </tr>\n",
       "    <tr>\n",
       "      <th>3</th>\n",
       "      <td>actinic keratosis</td>\n",
       "      <td>vascular lesion</td>\n",
       "      <td>0</td>\n",
       "    </tr>\n",
       "    <tr>\n",
       "      <th>4</th>\n",
       "      <td>basal cell carcinoma</td>\n",
       "      <td>vascular lesion</td>\n",
       "      <td>0</td>\n",
       "    </tr>\n",
       "  </tbody>\n",
       "</table>\n",
       "</div>"
      ],
      "text/plain": [
       "                   real             pred  answer\n",
       "0              melanoma  vascular lesion       0\n",
       "1       vascular lesion  vascular lesion       1\n",
       "2       vascular lesion  vascular lesion       1\n",
       "3     actinic keratosis  vascular lesion       0\n",
       "4  basal cell carcinoma  vascular lesion       0"
      ]
     },
     "execution_count": 44,
     "metadata": {},
     "output_type": "execute_result"
    }
   ],
   "source": [
    "result_df['answer'] = result_df.apply(lambda x: int(x['real'] == x['pred']), axis=1)\n",
    "result_df.head()"
   ]
  },
  {
   "cell_type": "code",
   "execution_count": 45,
   "metadata": {},
   "outputs": [],
   "source": [
    "result_df.to_csv('result.csv')"
   ]
  },
  {
   "cell_type": "code",
   "execution_count": 46,
   "metadata": {},
   "outputs": [
    {
     "name": "stdout",
     "output_type": "stream",
     "text": [
      "Accuracy all classes:  14.02 %\n"
     ]
    }
   ],
   "source": [
    "print('Accuracy all classes: ', round(accuracy_score(result_df['real'], result_df['pred']) * 100, 2), '%')"
   ]
  },
  {
   "cell_type": "markdown",
   "metadata": {},
   "source": [
    "## Оценка accuracy по классам "
   ]
  },
  {
   "cell_type": "code",
   "execution_count": 137,
   "metadata": {},
   "outputs": [],
   "source": [
    "classes = result_df['real'].unique()"
   ]
  },
  {
   "cell_type": "code",
   "execution_count": 47,
   "metadata": {},
   "outputs": [
    {
     "name": "stdout",
     "output_type": "stream",
     "text": [
      "Class actinic keratosis. Accuracy: 0.0%\n",
      "Class basal cell carcinoma. Accuracy: 0.0%\n",
      "Class dermatofibroma. Accuracy: 0.0%\n",
      "Class melanoma. Accuracy: 15.15%\n",
      "Class nevus. Accuracy: 0.0%\n",
      "Class pigmented benign keratosis. Accuracy: 0.0%\n",
      "Class squamous cell carcinoma. Accuracy: 0.0%\n",
      "Class vascular lesion. Accuracy: 96.97%\n"
     ]
    }
   ],
   "source": [
    "for cl in classes:\n",
    "    answ = result_df[result_df['real'] == cl]['answer']\n",
    "    acc = round(100 * (sum(answ) / len(answ)), 2)\n",
    "    print('Class {}. Accuracy: {}%'.format(cl, acc))"
   ]
  }
 ],
 "metadata": {
  "kernelspec": {
   "display_name": "Python 3",
   "language": "python",
   "name": "python3"
  },
  "language_info": {
   "codemirror_mode": {
    "name": "ipython",
    "version": 3
   },
   "file_extension": ".py",
   "mimetype": "text/x-python",
   "name": "python",
   "nbconvert_exporter": "python",
   "pygments_lexer": "ipython3",
   "version": "3.7.1"
  },
  "toc": {
   "base_numbering": 1,
   "nav_menu": {},
   "number_sections": true,
   "sideBar": true,
   "skip_h1_title": false,
   "title_cell": "Table of Contents",
   "title_sidebar": "Contents",
   "toc_cell": false,
   "toc_position": {},
   "toc_section_display": true,
   "toc_window_display": false
  }
 },
 "nbformat": 4,
 "nbformat_minor": 2
}
