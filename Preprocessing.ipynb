{
 "cells": [
  {
   "cell_type": "code",
   "execution_count": 39,
   "metadata": {},
   "outputs": [],
   "source": [
    "import pandas as pd\n",
    "from sklearn.model_selection import train_test_split\n",
    "from tqdm import tqdm_notebook\n",
    "import seaborn as sns\n",
    "from matplotlib import pyplot as plt\n",
    "from PIL import Image\n",
    "import os\n",
    "import glob\n",
    "import random\n",
    "from shutil import copyfile\n",
    "import itertools"
   ]
  },
  {
   "cell_type": "code",
   "execution_count": 32,
   "metadata": {},
   "outputs": [],
   "source": [
    "path = 'img/'\n",
    "file_name = \"img_meta.csv\"\n",
    "ts = 0.25"
   ]
  },
  {
   "cell_type": "markdown",
   "metadata": {},
   "source": [
    "## Train Test Valid Split"
   ]
  },
  {
   "cell_type": "code",
   "execution_count": 52,
   "metadata": {},
   "outputs": [
    {
     "data": {
      "text/html": [
       "<div>\n",
       "<style scoped>\n",
       "    .dataframe tbody tr th:only-of-type {\n",
       "        vertical-align: middle;\n",
       "    }\n",
       "\n",
       "    .dataframe tbody tr th {\n",
       "        vertical-align: top;\n",
       "    }\n",
       "\n",
       "    .dataframe thead th {\n",
       "        text-align: right;\n",
       "    }\n",
       "</style>\n",
       "<table border=\"1\" class=\"dataframe\">\n",
       "  <thead>\n",
       "    <tr style=\"text-align: right;\">\n",
       "      <th></th>\n",
       "      <th>id</th>\n",
       "      <th>name</th>\n",
       "      <th>type</th>\n",
       "      <th>w</th>\n",
       "      <th>h</th>\n",
       "      <th>dataset</th>\n",
       "      <th>diagnosis</th>\n",
       "      <th>diagnosis_confirm_type</th>\n",
       "      <th>age</th>\n",
       "      <th>sex</th>\n",
       "    </tr>\n",
       "  </thead>\n",
       "  <tbody>\n",
       "    <tr>\n",
       "      <td>0</td>\n",
       "      <td>5aaf12491165976913627e89</td>\n",
       "      <td>ISIC_0024306</td>\n",
       "      <td>dermoscopic</td>\n",
       "      <td>600</td>\n",
       "      <td>450</td>\n",
       "      <td>HAM10000</td>\n",
       "      <td>nevus</td>\n",
       "      <td>serial imaging showing no change</td>\n",
       "      <td>45</td>\n",
       "      <td>male</td>\n",
       "    </tr>\n",
       "    <tr>\n",
       "      <td>1</td>\n",
       "      <td>5aaf12491165976913627e95</td>\n",
       "      <td>ISIC_0024307</td>\n",
       "      <td>dermoscopic</td>\n",
       "      <td>600</td>\n",
       "      <td>450</td>\n",
       "      <td>HAM10000</td>\n",
       "      <td>nevus</td>\n",
       "      <td>serial imaging showing no change</td>\n",
       "      <td>50</td>\n",
       "      <td>male</td>\n",
       "    </tr>\n",
       "    <tr>\n",
       "      <td>2</td>\n",
       "      <td>5aaf12491165976913627ea0</td>\n",
       "      <td>ISIC_0024308</td>\n",
       "      <td>dermoscopic</td>\n",
       "      <td>600</td>\n",
       "      <td>450</td>\n",
       "      <td>HAM10000</td>\n",
       "      <td>nevus</td>\n",
       "      <td>serial imaging showing no change</td>\n",
       "      <td>55</td>\n",
       "      <td>female</td>\n",
       "    </tr>\n",
       "    <tr>\n",
       "      <td>3</td>\n",
       "      <td>5aaf12491165976913627eab</td>\n",
       "      <td>ISIC_0024309</td>\n",
       "      <td>dermoscopic</td>\n",
       "      <td>600</td>\n",
       "      <td>450</td>\n",
       "      <td>HAM10000</td>\n",
       "      <td>nevus</td>\n",
       "      <td>serial imaging showing no change</td>\n",
       "      <td>40</td>\n",
       "      <td>male</td>\n",
       "    </tr>\n",
       "    <tr>\n",
       "      <td>4</td>\n",
       "      <td>5aaf12491165976913627eb6</td>\n",
       "      <td>ISIC_0024310</td>\n",
       "      <td>dermoscopic</td>\n",
       "      <td>600</td>\n",
       "      <td>450</td>\n",
       "      <td>HAM10000</td>\n",
       "      <td>melanoma</td>\n",
       "      <td>histopathology</td>\n",
       "      <td>60</td>\n",
       "      <td>male</td>\n",
       "    </tr>\n",
       "    <tr>\n",
       "      <td>...</td>\n",
       "      <td>...</td>\n",
       "      <td>...</td>\n",
       "      <td>...</td>\n",
       "      <td>...</td>\n",
       "      <td>...</td>\n",
       "      <td>...</td>\n",
       "      <td>...</td>\n",
       "      <td>...</td>\n",
       "      <td>...</td>\n",
       "      <td>...</td>\n",
       "    </tr>\n",
       "    <tr>\n",
       "      <td>10010</td>\n",
       "      <td>5aaf162711659769136471f0</td>\n",
       "      <td>ISIC_0034316</td>\n",
       "      <td>dermoscopic</td>\n",
       "      <td>600</td>\n",
       "      <td>450</td>\n",
       "      <td>HAM10000</td>\n",
       "      <td>melanoma</td>\n",
       "      <td>histopathology</td>\n",
       "      <td>85</td>\n",
       "      <td>male</td>\n",
       "    </tr>\n",
       "    <tr>\n",
       "      <td>10011</td>\n",
       "      <td>5aaf162711659769136471fb</td>\n",
       "      <td>ISIC_0034317</td>\n",
       "      <td>dermoscopic</td>\n",
       "      <td>600</td>\n",
       "      <td>450</td>\n",
       "      <td>HAM10000</td>\n",
       "      <td>melanoma</td>\n",
       "      <td>histopathology</td>\n",
       "      <td>70</td>\n",
       "      <td>female</td>\n",
       "    </tr>\n",
       "    <tr>\n",
       "      <td>10012</td>\n",
       "      <td>5aaf16271165976913647206</td>\n",
       "      <td>ISIC_0034318</td>\n",
       "      <td>dermoscopic</td>\n",
       "      <td>600</td>\n",
       "      <td>450</td>\n",
       "      <td>HAM10000</td>\n",
       "      <td>pigmented benign keratosis</td>\n",
       "      <td>histopathology</td>\n",
       "      <td>55</td>\n",
       "      <td>male</td>\n",
       "    </tr>\n",
       "    <tr>\n",
       "      <td>10013</td>\n",
       "      <td>5aaf16271165976913647214</td>\n",
       "      <td>ISIC_0034319</td>\n",
       "      <td>dermoscopic</td>\n",
       "      <td>600</td>\n",
       "      <td>450</td>\n",
       "      <td>HAM10000</td>\n",
       "      <td>nevus</td>\n",
       "      <td>histopathology</td>\n",
       "      <td>30</td>\n",
       "      <td>male</td>\n",
       "    </tr>\n",
       "    <tr>\n",
       "      <td>10014</td>\n",
       "      <td>5aaf16271165976913647223</td>\n",
       "      <td>ISIC_0034320</td>\n",
       "      <td>dermoscopic</td>\n",
       "      <td>600</td>\n",
       "      <td>450</td>\n",
       "      <td>HAM10000</td>\n",
       "      <td>nevus</td>\n",
       "      <td>histopathology</td>\n",
       "      <td>25</td>\n",
       "      <td>female</td>\n",
       "    </tr>\n",
       "  </tbody>\n",
       "</table>\n",
       "<p>10015 rows × 10 columns</p>\n",
       "</div>"
      ],
      "text/plain": [
       "                             id          name         type    w    h  \\\n",
       "0      5aaf12491165976913627e89  ISIC_0024306  dermoscopic  600  450   \n",
       "1      5aaf12491165976913627e95  ISIC_0024307  dermoscopic  600  450   \n",
       "2      5aaf12491165976913627ea0  ISIC_0024308  dermoscopic  600  450   \n",
       "3      5aaf12491165976913627eab  ISIC_0024309  dermoscopic  600  450   \n",
       "4      5aaf12491165976913627eb6  ISIC_0024310  dermoscopic  600  450   \n",
       "...                         ...           ...          ...  ...  ...   \n",
       "10010  5aaf162711659769136471f0  ISIC_0034316  dermoscopic  600  450   \n",
       "10011  5aaf162711659769136471fb  ISIC_0034317  dermoscopic  600  450   \n",
       "10012  5aaf16271165976913647206  ISIC_0034318  dermoscopic  600  450   \n",
       "10013  5aaf16271165976913647214  ISIC_0034319  dermoscopic  600  450   \n",
       "10014  5aaf16271165976913647223  ISIC_0034320  dermoscopic  600  450   \n",
       "\n",
       "        dataset                   diagnosis            diagnosis_confirm_type  \\\n",
       "0      HAM10000                       nevus  serial imaging showing no change   \n",
       "1      HAM10000                       nevus  serial imaging showing no change   \n",
       "2      HAM10000                       nevus  serial imaging showing no change   \n",
       "3      HAM10000                       nevus  serial imaging showing no change   \n",
       "4      HAM10000                    melanoma                    histopathology   \n",
       "...         ...                         ...                               ...   \n",
       "10010  HAM10000                    melanoma                    histopathology   \n",
       "10011  HAM10000                    melanoma                    histopathology   \n",
       "10012  HAM10000  pigmented benign keratosis                    histopathology   \n",
       "10013  HAM10000                       nevus                    histopathology   \n",
       "10014  HAM10000                       nevus                    histopathology   \n",
       "\n",
       "      age     sex  \n",
       "0      45    male  \n",
       "1      50    male  \n",
       "2      55  female  \n",
       "3      40    male  \n",
       "4      60    male  \n",
       "...    ..     ...  \n",
       "10010  85    male  \n",
       "10011  70  female  \n",
       "10012  55    male  \n",
       "10013  30    male  \n",
       "10014  25  female  \n",
       "\n",
       "[10015 rows x 10 columns]"
      ]
     },
     "execution_count": 52,
     "metadata": {},
     "output_type": "execute_result"
    }
   ],
   "source": [
    "df = pd.read_csv(file_name)\n",
    "df.drop(df[df['dataset'] != 'HAM10000'].index, inplace=True)\n",
    "df.reset_index(inplace=True)\n",
    "df.drop(['diagnosis_another', 'Unnamed: 11', 'index'], axis=1, inplace=True)\n",
    "df"
   ]
  },
  {
   "cell_type": "code",
   "execution_count": 53,
   "metadata": {},
   "outputs": [
    {
     "data": {
      "text/plain": [
       "['nevus',\n",
       " 'melanoma',\n",
       " 'pigmented benign keratosis',\n",
       " 'dermatofibroma',\n",
       " 'squamous cell carcinoma',\n",
       " 'basal cell carcinoma',\n",
       " 'vascular lesion',\n",
       " 'actinic keratosis']"
      ]
     },
     "execution_count": 53,
     "metadata": {},
     "output_type": "execute_result"
    }
   ],
   "source": [
    "class_names = list(df[\"diagnosis\"].unique())\n",
    "class_names"
   ]
  },
  {
   "cell_type": "code",
   "execution_count": 33,
   "metadata": {},
   "outputs": [],
   "source": [
    "X = df['name']\n",
    "y = df['diagnosis']\n",
    "X_train, X_test, y_train, y_test = train_test_split(X, y, test_size=ts, random_state=42)\n",
    "X_train, X_valid, y_train, y_valid = train_test_split(X_train, y_train, test_size=ts, random_state=42)"
   ]
  },
  {
   "cell_type": "code",
   "execution_count": 19,
   "metadata": {},
   "outputs": [],
   "source": [
    "def plot_hist(data, name=\"\"):\n",
    "    plt.figure(figsize=(16,5))\n",
    "    plt.xticks(rotation=45)\n",
    "    plt.title(name)\n",
    "    sns.countplot(data);   "
   ]
  },
  {
   "cell_type": "code",
   "execution_count": 23,
   "metadata": {},
   "outputs": [
    {
     "data": {
      "image/png": "[encoded data removed]",
      "text/plain": [
       "<Figure size 1152x360 with 1 Axes>"
      ]
     },
     "metadata": {
      "needs_background": "light"
     },
     "output_type": "display_data"
    }
   ],
   "source": [
    "plot_hist(y_valid, \"Valid\")"
   ]
  },
  {
   "cell_type": "code",
   "execution_count": 36,
   "metadata": {},
   "outputs": [],
   "source": [
    "X_train = list(X_train)\n",
    "X_test = list(X_test)\n",
    "X_valid = list(X_valid)"
   ]
  },
  {
   "cell_type": "code",
   "execution_count": 41,
   "metadata": {},
   "outputs": [
    {
     "data": {
      "application/vnd.jupyter.widget-view+json": {
       "model_id": "16bd16a0cb4340f6ba3418e4528c7161",
       "version_major": 2,
       "version_minor": 0
      },
      "text/plain": [
       "HBox(children=(IntProgress(value=1, bar_style='info', max=1), HTML(value='')))"
      ]
     },
     "metadata": {},
     "output_type": "display_data"
    },
    {
     "name": "stdout",
     "output_type": "stream",
     "text": [
      "\n"
     ]
    }
   ],
   "source": [
    "for i, name in tqdm_notebook(enumerate(X)):\n",
    "    mode = \"train\"\n",
    "    if name in X_test:\n",
    "        mode = \"test\"\n",
    "    elif name in X_valid:\n",
    "        mode = \"valid\"\n",
    "    \n",
    "    old_path = path + f\"{name}.jpg\"\n",
    "    new_dir = path + f\"{mode}/{y[i]}/\"\n",
    "    new_path = new_dir + f\"{name}.jpg\"\n",
    "    \n",
    "    if not os.path.isdir(new_dir):\n",
    "        os.makedirs(new_dir)\n",
    "    if os.path.isfile(old_path):\n",
    "        os.replace(old_path, new_path)"
   ]
  },
  {
   "cell_type": "code",
   "execution_count": 59,
   "metadata": {},
   "outputs": [],
   "source": [
    "def get_segment_stat(root_path, class_names):\n",
    "    stat_dict = {'class_name' : class_names, \"train\" : [], \"test\" : [], \"valid\" : []}\n",
    "    \n",
    "    for mode in os.listdir(root_path):\n",
    "        if os.path.isdir(os.path.join(root_path, mode)):\n",
    "            for cl in class_names:\n",
    "                stat_dict[mode].append(len(glob.glob(f\"{root_path}/{mode}/{cl}/*.jpg\")))\n",
    "\n",
    "    stat_df = pd.DataFrame(stat_dict)\n",
    "    stat_df[\"all\"] = stat_df[\"train\"] + stat_df[\"test\"] + stat_df[\"valid\"]\n",
    "#     stat_df = stat_df.set_index(\"class_name\")\n",
    "    return stat_df"
   ]
  },
  {
   "cell_type": "code",
   "execution_count": 61,
   "metadata": {},
   "outputs": [
    {
     "data": {
      "text/html": [
       "<div>\n",
       "<style scoped>\n",
       "    .dataframe tbody tr th:only-of-type {\n",
       "        vertical-align: middle;\n",
       "    }\n",
       "\n",
       "    .dataframe tbody tr th {\n",
       "        vertical-align: top;\n",
       "    }\n",
       "\n",
       "    .dataframe thead th {\n",
       "        text-align: right;\n",
       "    }\n",
       "</style>\n",
       "<table border=\"1\" class=\"dataframe\">\n",
       "  <thead>\n",
       "    <tr style=\"text-align: right;\">\n",
       "      <th></th>\n",
       "      <th>class_name</th>\n",
       "      <th>train</th>\n",
       "      <th>test</th>\n",
       "      <th>valid</th>\n",
       "      <th>all</th>\n",
       "    </tr>\n",
       "  </thead>\n",
       "  <tbody>\n",
       "    <tr>\n",
       "      <td>0</td>\n",
       "      <td>nevus</td>\n",
       "      <td>3760</td>\n",
       "      <td>1673</td>\n",
       "      <td>1272</td>\n",
       "      <td>6705</td>\n",
       "    </tr>\n",
       "    <tr>\n",
       "      <td>1</td>\n",
       "      <td>melanoma</td>\n",
       "      <td>608</td>\n",
       "      <td>303</td>\n",
       "      <td>202</td>\n",
       "      <td>1113</td>\n",
       "    </tr>\n",
       "    <tr>\n",
       "      <td>2</td>\n",
       "      <td>pigmented benign keratosis</td>\n",
       "      <td>632</td>\n",
       "      <td>259</td>\n",
       "      <td>208</td>\n",
       "      <td>1099</td>\n",
       "    </tr>\n",
       "    <tr>\n",
       "      <td>3</td>\n",
       "      <td>dermatofibroma</td>\n",
       "      <td>65</td>\n",
       "      <td>28</td>\n",
       "      <td>22</td>\n",
       "      <td>115</td>\n",
       "    </tr>\n",
       "    <tr>\n",
       "      <td>4</td>\n",
       "      <td>squamous cell carcinoma</td>\n",
       "      <td>120</td>\n",
       "      <td>47</td>\n",
       "      <td>30</td>\n",
       "      <td>197</td>\n",
       "    </tr>\n",
       "    <tr>\n",
       "      <td>5</td>\n",
       "      <td>basal cell carcinoma</td>\n",
       "      <td>297</td>\n",
       "      <td>127</td>\n",
       "      <td>90</td>\n",
       "      <td>514</td>\n",
       "    </tr>\n",
       "    <tr>\n",
       "      <td>6</td>\n",
       "      <td>vascular lesion</td>\n",
       "      <td>80</td>\n",
       "      <td>37</td>\n",
       "      <td>25</td>\n",
       "      <td>142</td>\n",
       "    </tr>\n",
       "    <tr>\n",
       "      <td>7</td>\n",
       "      <td>actinic keratosis</td>\n",
       "      <td>71</td>\n",
       "      <td>30</td>\n",
       "      <td>29</td>\n",
       "      <td>130</td>\n",
       "    </tr>\n",
       "  </tbody>\n",
       "</table>\n",
       "</div>"
      ],
      "text/plain": [
       "                   class_name  train  test  valid   all\n",
       "0                       nevus   3760  1673   1272  6705\n",
       "1                    melanoma    608   303    202  1113\n",
       "2  pigmented benign keratosis    632   259    208  1099\n",
       "3              dermatofibroma     65    28     22   115\n",
       "4     squamous cell carcinoma    120    47     30   197\n",
       "5        basal cell carcinoma    297   127     90   514\n",
       "6             vascular lesion     80    37     25   142\n",
       "7           actinic keratosis     71    30     29   130"
      ]
     },
     "execution_count": 61,
     "metadata": {},
     "output_type": "execute_result"
    }
   ],
   "source": [
    "stdf = get_segment_stat(\"img/\", class_names)\n",
    "stdf"
   ]
  },
  {
   "cell_type": "markdown",
   "metadata": {},
   "source": [
    "## Разбиение выборки на равные части (по минимуму)"
   ]
  },
  {
   "cell_type": "code",
   "execution_count": 62,
   "metadata": {},
   "outputs": [
    {
     "data": {
      "text/plain": [
       "65"
      ]
     },
     "execution_count": 62,
     "metadata": {},
     "output_type": "execute_result"
    }
   ],
   "source": [
    "lim = stdf[\"train\"].min()\n",
    "lim"
   ]
  },
  {
   "cell_type": "code",
   "execution_count": 64,
   "metadata": {},
   "outputs": [],
   "source": [
    "for cl in class_names:\n",
    "    train_folder = f\"img/train_{lim}/\" + cl\n",
    "    if not os.path.isdir(train_folder):\n",
    "        os.makedirs(train_folder)"
   ]
  },
  {
   "cell_type": "code",
   "execution_count": 67,
   "metadata": {},
   "outputs": [
    {
     "name": "stdout",
     "output_type": "stream",
     "text": [
      "img/train\n",
      "actinic keratosis 65 / 71\n",
      "basal cell carcinoma 65 / 297\n",
      "dermatofibroma 65 / 65\n",
      "melanoma 65 / 608\n",
      "nevus 65 / 3760\n",
      "pigmented benign keratosis 65 / 632\n",
      "squamous cell carcinoma 65 / 120\n",
      "vascular lesion 65 / 80\n"
     ]
    }
   ],
   "source": [
    "train_fn = f\"img/train\"\n",
    "print(train_fn)\n",
    "for clname in os.listdir(train_fn):\n",
    "    img_names = os.listdir(f\"{train_fn}\\\\{clname}\\\\\")\n",
    "    random.shuffle(img_names)\n",
    "    selected_names = img_names[:lim]\n",
    "    print(clname, len(selected_names), \"/\", len(img_names))\n",
    "    for name in selected_names:\n",
    "        old_path = f\"{train_fn}\\\\{clname}\\\\{name}\"\n",
    "        new_path = f\"{train_fn}_{lim}\\\\{clname}\\\\{name}\"\n",
    "        copyfile(old_path, new_path)"
   ]
  },
  {
   "cell_type": "markdown",
   "metadata": {},
   "source": [
    "## Обогощение выборки до максимума "
   ]
  },
  {
   "cell_type": "code",
   "execution_count": 3,
   "metadata": {},
   "outputs": [],
   "source": [
    "path = \"C:/Users/Dima/PyFiles/MedNN/img/train_enriched\"\n",
    "cl_names = os.listdir(path)"
   ]
  },
  {
   "cell_type": "code",
   "execution_count": 7,
   "metadata": {},
   "outputs": [],
   "source": [
    "dataset = {}\n",
    "for cl in cl_names:\n",
    "    dataset[cl] = os.listdir(os.path.join(path, cl))"
   ]
  },
  {
   "cell_type": "code",
   "execution_count": 5,
   "metadata": {},
   "outputs": [],
   "source": [
    "cnt = {}\n",
    "for cl in cl_names:\n",
    "    cnt[cl] = len(dataset[cl])"
   ]
  },
  {
   "cell_type": "code",
   "execution_count": 6,
   "metadata": {},
   "outputs": [],
   "source": [
    "max_cnt = max([v for v in cnt.values()])"
   ]
  },
  {
   "cell_type": "code",
   "execution_count": 7,
   "metadata": {},
   "outputs": [],
   "source": [
    "add = {}\n",
    "for cl in cl_names:\n",
    "    add[cl] = max_cnt - cnt[cl]"
   ]
  },
  {
   "cell_type": "code",
   "execution_count": 8,
   "metadata": {},
   "outputs": [],
   "source": [
    "def transform(newPth, oldPth):\n",
    "    img = Image.open(oldPth)\n",
    "    deg = random.randint(-45, 45)\n",
    "    hf = bool(random.randint(0,1))\n",
    "    vf = bool(random.randint(0,1))\n",
    "    img = img.rotate(deg)\n",
    "    if hf:\n",
    "        img = ImageOps.mirror(img)\n",
    "    if vf:\n",
    "        img = ImageOps.flip(img)\n",
    "    img.save(newPth)"
   ]
  },
  {
   "cell_type": "code",
   "execution_count": 9,
   "metadata": {},
   "outputs": [],
   "source": [
    "for cl in cl_names:\n",
    "    iters = int(add[cl] / cnt[cl])\n",
    "    remain = add[cl] - cnt[cl] * iters\n",
    "    \n",
    "    for i in range(iters):\n",
    "        for name in dataset[cl]:\n",
    "            oldPth = path + '/' + cl + '/' + name\n",
    "            newPth = path + '/' + cl + '/' + f\"{i}_{name}\"\n",
    "            transform(newPth, oldPth)\n",
    "            \n",
    "    orig_names = dataset[cl]\n",
    "    \n",
    "    for j in range(remain):\n",
    "        oldPth = path + '/' + cl + '/' + orig_names[j]\n",
    "        newPth = path + '/' + cl + '/' + f\"{i}-{orig_names[j]}\"\n",
    "        transform(newPth, oldPth)"
   ]
  },
  {
   "cell_type": "code",
   "execution_count": 5,
   "metadata": {},
   "outputs": [
    {
     "name": "stdout",
     "output_type": "stream",
     "text": [
      "actinic keratosis : 4479\n",
      "basal cell carcinoma : 4479\n",
      "dermatofibroma : 4479\n",
      "melanoma : 4479\n",
      "nevus : 4479\n",
      "pigmented benign keratosis : 4479\n",
      "squamous cell carcinoma : 4479\n",
      "vascular lesion : 4479\n"
     ]
    }
   ],
   "source": [
    "for cl in cl_names:\n",
    "    print(cl, ':', len(os.listdir(os.path.join(path, cl))))"
   ]
  },
  {
   "cell_type": "code",
   "execution_count": 12,
   "metadata": {},
   "outputs": [],
   "source": [
    "def grouper(n, iterable):\n",
    "    it = iter(iterable)\n",
    "    while True:\n",
    "       chunk = tuple(itertools.islice(it, n))\n",
    "       if not chunk:\n",
    "           return\n",
    "       yield chunk"
   ]
  },
  {
   "cell_type": "code",
   "execution_count": null,
   "metadata": {},
   "outputs": [],
   "source": [
    "for gr in grouper(122, dataset['actinic keratosis']):\n",
    "    for g in gr:\n",
    "        print(g)"
   ]
  }
 ],
 "metadata": {
  "kernelspec": {
   "display_name": "Python 3",
   "language": "python",
   "name": "python3"
  },
  "language_info": {
   "codemirror_mode": {
    "name": "ipython",
    "version": 3
   },
   "file_extension": ".py",
   "mimetype": "text/x-python",
   "name": "python",
   "nbconvert_exporter": "python",
   "pygments_lexer": "ipython3",
   "version": "3.7.4"
  }
 },
 "nbformat": 4,
 "nbformat_minor": 4
}
