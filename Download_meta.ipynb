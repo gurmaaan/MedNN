{
 "cells": [
  {
   "cell_type": "markdown",
   "metadata": {},
   "source": [
    "# Определяю класс ISIC API"
   ]
  },
  {
   "cell_type": "code",
   "execution_count": 4,
   "metadata": {},
   "outputs": [],
   "source": [
    "from isicapi import ISICApi"
   ]
  },
  {
   "cell_type": "code",
   "execution_count": 5,
   "metadata": {},
   "outputs": [],
   "source": [
    "api = ISICApi(username=\"dmitry@gurov.co\", password=\"Lbvfvelfr1\")"
   ]
  },
  {
   "cell_type": "markdown",
   "metadata": {},
   "source": [
    "# Качаю метаданные картинок "
   ]
  },
  {
   "cell_type": "code",
   "execution_count": null,
   "metadata": {},
   "outputs": [],
   "source": [
    "imageList = api.getJson('image?limit=24000&offset=0&sort=name')\n",
    "\n",
    "meta_file = open('img_metas.csv', 'a')\n",
    "header_str = 'id,name,type,w,h,dataset,diagnosis,diagnosis_confirm_type,diagnosis_another,age,sex,\\n'\n",
    "imageCount = len(imageList)\n",
    "meta_file.write(header_str) \n",
    "for image in imageList:\n",
    "\tcurrent_ind = imageList.index(image)\n",
    "\tprint(current_ind, '/', imageCount, ' - ', round(((current_ind+1) / imageCount)*100, 3), '%' )\n",
    "\timageDetail = api.getJson('image/%s' % image['_id'])\n",
    "\tif '_id' in imageDetail:\n",
    "\t\ti_id = str(imageDetail['_id'])\n",
    "\telse:\n",
    "\t\ti_id = 'null'\n",
    "\tif 'name' in imageDetail:\n",
    "\t\ti_name = str(imageDetail['name'])\n",
    "\telse:\n",
    "\t\ti_name = 'null'\n",
    "\tif 'dataset' in imageDetail:\n",
    "\t\tdataset_dict = imageDetail['dataset']\n",
    "\t\tif 'name' in dataset_dict:\n",
    "\t\t\ti_ds = str(dataset_dict['name'])\n",
    "\t\telse:\n",
    "\t\t\ti_ds = 'null'\n",
    "\telse:\n",
    "\t\ti_ds = 'null'\n",
    "\tif 'meta' in imageDetail:\n",
    "\t\tmeta_dict = imageDetail['meta']\n",
    "\t\tif 'acquisition' in meta_dict:\n",
    "\t\t\tacquisition_dict = meta_dict['acquisition']\n",
    "\t\t\tif 'image_type' in acquisition_dict: \n",
    "\t\t\t\ti_type = str(acquisition_dict['image_type'])\n",
    "\t\t\telse:\n",
    "\t\t\t\ti_type = 'null'\n",
    "\t\t\tif 'pixelsX' in acquisition_dict:\n",
    "\t\t\t\ti_w = str(acquisition_dict['pixelsX'])\n",
    "\t\t\telse:\n",
    "\t\t\t\ti_w = 'null'\n",
    "\t\t\tif 'pixelsY' in acquisition_dict:\n",
    "\t\t\t\ti_h = str(acquisition_dict['pixelsY'])\n",
    "\t\t\telse:\n",
    "\t\t\t\ti_h = 'null'\n",
    "\t\telse:\n",
    "\t\t\ti_type = 'null'\n",
    "            i_w = 'null'\n",
    "\t\t\ti_h = 'null'\n",
    "\t\tif 'clinical' in meta_dict:\n",
    "\t\t\tclinical_dict = meta_dict['clinical']\n",
    "\n",
    "\t\t\tif 'diagnosis' in clinical_dict:\n",
    "\t\t\t\ti_diagnos = str(clinical_dict['diagnosis'])\n",
    "\t\t\telse:\n",
    "\t\t\t\ti_diagnos = 'null'\n",
    "\t\t\tif 'diagnosis_confirm_type' in clinical_dict:\n",
    "\t\t\t\ti_conf_type = str(clinical_dict['diagnosis_confirm_type'])\n",
    "\t\t\telse:\n",
    "\t\t\t\ti_conf_type = 'null'\n",
    "\t\t\tif 'age_approx' in clinical_dict:\n",
    "\t\t\t\ti_age = str(clinical_dict['age_approx'])\n",
    "\t\t\telse:\n",
    "\t\t\t\ti_age = 'null'\n",
    "\t\t\tif 'sex' in clinical_dict:\n",
    "\t\t\t\ti_sex = str(clinical_dict['sex'])\n",
    "\t\t\telse:\n",
    "\t\t\t\ti_sex = 'null'\n",
    "\t\telse:\n",
    "\t\t\ti_diagnos = 'null'\n",
    "\t\t\ti_conf_type = 'null'\n",
    "\t\t\ti_age = 'null'\n",
    "\t\t\ti_sex = 'null'\n",
    "\t\tif 'unstructured' in meta_dict:\n",
    "\t\t\tunstructured_dict = meta_dict['unstructured']\n",
    "\t\t\tif 'diagnosis' in unstructured_dict:\n",
    "\t\t\t\ti_another_diag = str(unstructured_dict['diagnosis'])\n",
    "\t\t\telse:\n",
    "\t\t\t\ti_another_diag = 'null'\n",
    "\t\telse:\n",
    "\t\t\ti_another_diag = 'null'\n",
    "\telse:\n",
    "\t\ti_type = 'null'\n",
    "\t\ti_w = 'null'\n",
    "\t\ti_h = 'null'\n",
    "\t\ti_diagnos = 'null'\n",
    "\t\ti_conf_type = 'null'\n",
    "\t\ti_age = 'null'\n",
    "\t\ti_sex = 'null'\n",
    "\t\ti_another_diag = 'null'\n",
    "\t\n",
    "\timage_str = i_id + ',' + i_name + ',' + i_type + ',' + i_w + ',' + i_h + ',' + i_ds + ',' + i_diagnos + ',' + i_conf_type + ',' + i_another_diag + ',' + i_age + ',' + i_sex + '\\n'\n",
    "\tmeta_file.write(image_str)\n",
    "meta_file.close()\n",
    "\n",
    "print('Done')"
   ]
  }
 ],
 "metadata": {
  "kernelspec": {
   "display_name": "Python 3",
   "language": "python",
   "name": "python3"
  },
  "language_info": {
   "codemirror_mode": {
    "name": "ipython",
    "version": 3
   },
   "file_extension": ".py",
   "mimetype": "text/x-python",
   "name": "python",
   "nbconvert_exporter": "python",
   "pygments_lexer": "ipython3",
   "version": "3.7.4"
  }
 },
 "nbformat": 4,
 "nbformat_minor": 4
}
