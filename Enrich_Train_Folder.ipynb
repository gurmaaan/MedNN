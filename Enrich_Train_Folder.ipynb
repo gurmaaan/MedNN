{
 "cells": [
  {
   "cell_type": "code",
   "execution_count": 69,
   "metadata": {},
   "outputs": [],
   "source": [
    "import os\n",
    "import matplotlib.pyplot as plt\n",
    "import pandas as pd\n",
    "from collections import defaultdict\n",
    "from PIL import Image, ImageOps\n",
    "import random"
   ]
  },
  {
   "cell_type": "code",
   "execution_count": 42,
   "metadata": {},
   "outputs": [],
   "source": [
    "path = \"C:/Users/Dima/PyFiles/MedNN/img/train_enriched\""
   ]
  },
  {
   "cell_type": "code",
   "execution_count": 43,
   "metadata": {},
   "outputs": [],
   "source": [
    "cl_names = os.listdir(path)"
   ]
  },
  {
   "cell_type": "code",
   "execution_count": 44,
   "metadata": {},
   "outputs": [],
   "source": [
    "dataset = {}"
   ]
  },
  {
   "cell_type": "code",
   "execution_count": 45,
   "metadata": {},
   "outputs": [],
   "source": [
    "for cl in cl_names:\n",
    "    dataset[cl] = os.listdir(os.path.join(path, cl))"
   ]
  },
  {
   "cell_type": "code",
   "execution_count": 46,
   "metadata": {},
   "outputs": [],
   "source": [
    "cnt = {}"
   ]
  },
  {
   "cell_type": "code",
   "execution_count": 47,
   "metadata": {},
   "outputs": [],
   "source": [
    "for cl in cl_names:\n",
    "    cnt[cl] = len(dataset[cl])"
   ]
  },
  {
   "cell_type": "code",
   "execution_count": 48,
   "metadata": {},
   "outputs": [],
   "source": [
    "max_cnt = max([v for v in cnt.values()])"
   ]
  },
  {
   "cell_type": "code",
   "execution_count": 49,
   "metadata": {},
   "outputs": [],
   "source": [
    "add = {}"
   ]
  },
  {
   "cell_type": "code",
   "execution_count": 50,
   "metadata": {},
   "outputs": [],
   "source": [
    "for cl in cl_names:\n",
    "    add[cl] = max_cnt - cnt[cl]"
   ]
  },
  {
   "cell_type": "code",
   "execution_count": 51,
   "metadata": {},
   "outputs": [
    {
     "data": {
      "text/plain": [
       "{'actinic keratosis': 4386,\n",
       " 'basal cell carcinoma': 4130,\n",
       " 'dermatofibroma': 4397,\n",
       " 'melanoma': 3762,\n",
       " 'nevus': 0,\n",
       " 'pigmented benign keratosis': 3723,\n",
       " 'squamous cell carcinoma': 4342,\n",
       " 'vascular lesion': 4382}"
      ]
     },
     "execution_count": 51,
     "metadata": {},
     "output_type": "execute_result"
    }
   ],
   "source": [
    "add"
   ]
  },
  {
   "cell_type": "code",
   "execution_count": 52,
   "metadata": {},
   "outputs": [
    {
     "data": {
      "text/plain": [
       "{'actinic keratosis': 93,\n",
       " 'basal cell carcinoma': 349,\n",
       " 'dermatofibroma': 82,\n",
       " 'melanoma': 717,\n",
       " 'nevus': 4479,\n",
       " 'pigmented benign keratosis': 756,\n",
       " 'squamous cell carcinoma': 137,\n",
       " 'vascular lesion': 97}"
      ]
     },
     "execution_count": 52,
     "metadata": {},
     "output_type": "execute_result"
    }
   ],
   "source": [
    "cnt"
   ]
  },
  {
   "cell_type": "code",
   "execution_count": 53,
   "metadata": {},
   "outputs": [
    {
     "data": {
      "text/plain": [
       "(5, 3585, 177, 3762)"
      ]
     },
     "execution_count": 53,
     "metadata": {},
     "output_type": "execute_result"
    }
   ],
   "source": [
    "iters = int(add[\"melanoma\"] / cnt[\"melanoma\"])\n",
    "remain = add[\"melanoma\"] - cnt[\"melanoma\"] * iters"
   ]
  },
  {
   "cell_type": "code",
   "execution_count": 59,
   "metadata": {},
   "outputs": [
    {
     "data": {
      "text/plain": [
       "'C:/Users/Dima/PyFiles/MedNN/img/train_enriched/melanoma/ISIC_0024310.jpg'"
      ]
     },
     "execution_count": 59,
     "metadata": {},
     "output_type": "execute_result"
    }
   ],
   "source": [
    "imgPath = path + \"/melanoma/\" + dataset[\"melanoma\"][0] \n",
    "imgPath"
   ]
  },
  {
   "cell_type": "code",
   "execution_count": 60,
   "metadata": {},
   "outputs": [],
   "source": [
    "img = Image.open(imgPath)"
   ]
  },
  {
   "cell_type": "code",
   "execution_count": 65,
   "metadata": {},
   "outputs": [],
   "source": [
    "img1 = img.rotate(45)"
   ]
  },
  {
   "cell_type": "code",
   "execution_count": 68,
   "metadata": {},
   "outputs": [],
   "source": [
    "img2 = ImageOps.mirror(img1)\n",
    "img2.show()"
   ]
  },
  {
   "cell_type": "code",
   "execution_count": 67,
   "metadata": {},
   "outputs": [],
   "source": [
    "img3 = ImageOps.flip(img1)\n",
    "img3.show()"
   ]
  },
  {
   "cell_type": "code",
   "execution_count": 81,
   "metadata": {},
   "outputs": [
    {
     "data": {
      "text/plain": [
       "28"
      ]
     },
     "execution_count": 81,
     "metadata": {},
     "output_type": "execute_result"
    }
   ],
   "source": [
    "random.randint(-45,45)"
   ]
  },
  {
   "cell_type": "code",
   "execution_count": 83,
   "metadata": {},
   "outputs": [],
   "source": [
    "for cl in cl_names:\n",
    "    iters = int(add[cl] / cnt[cl])\n",
    "    remain = add[cl] - cnt[cl] * iters\n",
    "    \n",
    "    for i in range(iters):\n",
    "        for name in dataset[cl]:\n",
    "            oldPth = path + '/' + cl + '/' + name\n",
    "            newPth = path + '/' + cl + '/' + f\"{i}_{name}\"\n",
    "            transform(newPth, oldPth)\n",
    "            \n",
    "    orig_names = dataset[cl]\n",
    "    \n",
    "    for j in range(remain):\n",
    "        oldPth = path + '/' + cl + '/' + orig_names[j]\n",
    "        newPth = path + '/' + cl + '/' + f\"{i}-{orig_names[j]}\"\n",
    "        transform(newPth, oldPth)"
   ]
  },
  {
   "cell_type": "code",
   "execution_count": 82,
   "metadata": {},
   "outputs": [],
   "source": [
    "def transform(newPth, oldPth):\n",
    "    img = Image.open(oldPth)\n",
    "    deg = random.randint(-45, 45)\n",
    "    hf = bool(random.randint(0,1))\n",
    "    vf = bool(random.randint(0,1))\n",
    "    img = img.rotate(deg)\n",
    "    if hf:\n",
    "        img = ImageOps.mirror(img)\n",
    "    if vf:\n",
    "        img = ImageOps.flip(img)\n",
    "    img.save(newPth)"
   ]
  },
  {
   "cell_type": "code",
   "execution_count": 84,
   "metadata": {},
   "outputs": [
    {
     "name": "stdout",
     "output_type": "stream",
     "text": [
      "4479\n",
      "4479\n",
      "4479\n",
      "4479\n",
      "4479\n",
      "4479\n",
      "4479\n",
      "4479\n"
     ]
    }
   ],
   "source": [
    "for cl in cl_names:\n",
    "    print(len(os.listdir(os.path.join(path, cl))))"
   ]
  },
  {
   "cell_type": "code",
   "execution_count": null,
   "metadata": {},
   "outputs": [],
   "source": []
  }
 ],
 "metadata": {
  "kernelspec": {
   "display_name": "Python 3",
   "language": "python",
   "name": "python3"
  },
  "language_info": {
   "codemirror_mode": {
    "name": "ipython",
    "version": 3
   },
   "file_extension": ".py",
   "mimetype": "text/x-python",
   "name": "python",
   "nbconvert_exporter": "python",
   "pygments_lexer": "ipython3",
   "version": "3.7.4"
  }
 },
 "nbformat": 4,
 "nbformat_minor": 2
}
