{
 "cells": [
  {
   "cell_type": "markdown",
   "metadata": {},
   "source": [
    "# Определяю класс ISIC API"
   ]
  },
  {
   "cell_type": "code",
   "execution_count": 4,
   "metadata": {},
   "outputs": [],
   "source": [
    "from isicapi import ISICApi"
   ]
  },
  {
   "cell_type": "code",
   "execution_count": 5,
   "metadata": {},
   "outputs": [],
   "source": [
    "api = ISICApi(username=\"dmitry@gurov.co\", password=\"Lbvfvelfr1\")"
   ]
  },
  {
   "cell_type": "markdown",
   "metadata": {},
   "source": [
    "# Качаю метаданные картинок "
   ]
  },
  {
   "cell_type": "code",
   "execution_count": null,
   "metadata": {},
   "outputs": [],
   "source": [
    "imageList = api.getJson('image?limit=24000&offset=0&sort=name')\n",
    "\n",
    "meta_file = open('img_metas.csv', 'a')\n",
    "header_str = 'id,name,type,w,h,dataset,diagnosis,diagnosis_confirm_type,diagnosis_another,age,sex,\\n'\n",
    "imageCount = len(imageList)\n",
    "meta_file.write(header_str) \n",
    "for image in imageList:\n",
    "    current_ind = imageList.index(image)\n",
    "    print(current_ind, '/', imageCount, ' - ', round(((current_ind+1) / imageCount)*100, 3), '%' )\n",
    "    imageDetail = api.getJson('image/%s' % image['_id'])\n",
    "    if '_id' in imageDetail:\n",
    "        i_id = str(imageDetail['_id'])\n",
    "    else:\n",
    "        i_id = 'null'\n",
    "    if 'name' in imageDetail:\n",
    "        i_name = str(imageDetail['name'])\n",
    "    else:\n",
    "        i_name = 'null'\n",
    "    if 'dataset' in imageDetail:\n",
    "        dataset_dict = imageDetail['dataset']\n",
    "        if 'name' in dataset_dict:\n",
    "            i_ds = str(dataset_dict['name'])\n",
    "        else:\n",
    "            i_ds = 'null'\n",
    "    else:\n",
    "        i_ds = 'null'\n",
    "    if 'meta' in imageDetail:\n",
    "        meta_dict = imageDetail['meta']\n",
    "        if 'acquisition' in meta_dict:\n",
    "            acquisition_dict = meta_dict['acquisition']\n",
    "            if 'image_type' in acquisition_dict: \n",
    "                i_type = str(acquisition_dict['image_type'])\n",
    "            else:\n",
    "                i_type = 'null'\n",
    "            if 'pixelsX' in acquisition_dict:\n",
    "                i_w = str(acquisition_dict['pixelsX'])\n",
    "            else:\n",
    "                i_w = 'null'\n",
    "            if 'pixelsY' in acquisition_dict:\n",
    "                i_h = str(acquisition_dict['pixelsY'])\n",
    "            else:\n",
    "                i_h = 'null'\n",
    "        else:\n",
    "            i_type = 'null'\n",
    "            i_w = 'null'\n",
    "            i_h = 'null'\n",
    "        if 'clinical' in meta_dict:\n",
    "            clinical_dict = meta_dict['clinical']\n",
    "\n",
    "            if 'diagnosis' in clinical_dict:\n",
    "                i_diagnos = str(clinical_dict['diagnosis'])\n",
    "            else:\n",
    "                i_diagnos = 'null'\n",
    "            if 'diagnosis_confirm_type' in clinical_dict:\n",
    "                i_conf_type = str(clinical_dict['diagnosis_confirm_type'])\n",
    "            else:\n",
    "                i_conf_type = 'null'\n",
    "            if 'age_approx' in clinical_dict:\n",
    "                i_age = str(clinical_dict['age_approx'])\n",
    "            else:\n",
    "                i_age = 'null'\n",
    "            if 'sex' in clinical_dict:\n",
    "                i_sex = str(clinical_dict['sex'])\n",
    "            else:\n",
    "                i_sex = 'null'\n",
    "        else:\n",
    "            i_diagnos = 'null'\n",
    "            i_conf_type = 'null'\n",
    "            i_age = 'null'\n",
    "            i_sex = 'null'\n",
    "        if 'unstructured' in meta_dict:\n",
    "            unstructured_dict = meta_dict['unstructured']\n",
    "            if 'diagnosis' in unstructured_dict:\n",
    "                i_another_diag = str(unstructured_dict['diagnosis'])\n",
    "            else:\n",
    "                i_another_diag = 'null'\n",
    "        else:\n",
    "            i_another_diag = 'null'\n",
    "    else:\n",
    "        i_type = 'null'\n",
    "        i_w = 'null'\n",
    "        i_h = 'null'\n",
    "        i_diagnos = 'null'\n",
    "        i_conf_type = 'null'\n",
    "        i_age = 'null'\n",
    "        i_sex = 'null'\n",
    "        i_another_diag = 'null'\n",
    "    \n",
    "    image_str = i_id + ',' + i_name + ',' + i_type + ',' + i_w + ',' + i_h + ',' + i_ds + ',' + i_diagnos + ',' + i_conf_type + ',' + i_another_diag + ',' + i_age + ',' + i_sex + '\\n'\n",
    "    meta_file.write(image_str)\n",
    "meta_file.close()\n",
    "\n",
    "print('Done')"
   ]
  }
 ],
 "metadata": {
  "kernelspec": {
   "display_name": "Python 3",
   "language": "python",
   "name": "python3"
  },
  "language_info": {
   "codemirror_mode": {
    "name": "ipython",
    "version": 3
   },
   "file_extension": ".py",
   "mimetype": "text/x-python",
   "name": "python",
   "nbconvert_exporter": "python",
   "pygments_lexer": "ipython3",
   "version": "3.7.1"
  }
 },
 "nbformat": 4,
 "nbformat_minor": 4
}
