{
 "cells": [
  {
   "cell_type": "code",
   "execution_count": 5,
   "metadata": {},
   "outputs": [],
   "source": [
    "# General\n",
    "import numpy as np\n",
    "import matplotlib.pyplot as plt\n",
    "\n",
    "# PyTorch\n",
    "import torch.cuda\n",
    "from torchvision.datasets import ImageFolder\n",
    "from torch.utils.data import DataLoader\n",
    "import torchvision.transforms as transforms\n",
    "import torch.nn as nn\n",
    "import torch.optim as optim\n",
    "import torch.nn.functional as F\n",
    "\n",
    "# classic ML\n",
    "from sklearn.metrics import accuracy_score\n",
    "import pandas as pd"
   ]
  },
  {
   "cell_type": "markdown",
   "metadata": {},
   "source": [
    "## Константы "
   ]
  },
  {
   "cell_type": "code",
   "execution_count": 6,
   "metadata": {},
   "outputs": [],
   "source": [
    "img_size = 256\n",
    "batch_size = 7\n",
    "num_epochs = 1\n",
    "learning_rate = 0.001"
   ]
  },
  {
   "cell_type": "markdown",
   "metadata": {},
   "source": [
    "##  Проверка возможности обучения на GPU"
   ]
  },
  {
   "cell_type": "code",
   "execution_count": 7,
   "metadata": {},
   "outputs": [],
   "source": [
    "device = torch.device(\"cuda:0\" if torch.cuda.is_available() else \"cpu\")"
   ]
  },
  {
   "cell_type": "markdown",
   "metadata": {},
   "source": [
    "## Загрузка изображенией с применением трансформаций"
   ]
  },
  {
   "cell_type": "markdown",
   "metadata": {},
   "source": [
    "Сначала просто открываем картинки без каких-либо трансформаций"
   ]
  },
  {
   "cell_type": "code",
   "execution_count": 8,
   "metadata": {},
   "outputs": [],
   "source": [
    "trfrms = [\n",
    "    transforms.Resize(size=(img_size, img_size)),\n",
    "    transforms.ToTensor()\n",
    "]"
   ]
  },
  {
   "cell_type": "code",
   "execution_count": 9,
   "metadata": {},
   "outputs": [],
   "source": [
    "train_folder = ImageFolder(root='train_115', transform=transforms.Compose(trfrms))\n",
    "test_folder = ImageFolder(root='test_115', transform=transforms.Compose(trfrms))"
   ]
  },
  {
   "cell_type": "markdown",
   "metadata": {},
   "source": [
    "Сохраняем количество классов и словарь названий"
   ]
  },
  {
   "cell_type": "code",
   "execution_count": 10,
   "metadata": {},
   "outputs": [],
   "source": [
    "num_classes = len(train_folder.classes)\n",
    "\n",
    "classes_map = dict((v,k) for k,v in train_folder.class_to_idx.items())"
   ]
  },
  {
   "cell_type": "markdown",
   "metadata": {},
   "source": [
    "Создаем список трансформаций, которые будут применяться после открытия, но до конвертации изображения в тензор"
   ]
  },
  {
   "cell_type": "code",
   "execution_count": 11,
   "metadata": {},
   "outputs": [],
   "source": [
    "transformation_list = [\n",
    "    transforms.RandomRotation(degrees=45),\n",
    "    transforms.RandomHorizontalFlip(1),\n",
    "    transforms.RandomRotation(degrees=45),\n",
    "    transforms.RandomVerticalFlip(1),\n",
    "    transforms.RandomRotation(degrees=45),\n",
    "    transforms.RandomHorizontalFlip(1),\n",
    "    transforms.RandomRotation(degrees=45),\n",
    "    transforms.RandomVerticalFlip(1),\n",
    "    transforms.RandomRotation(degrees=45),\n",
    "    transforms.RandomHorizontalFlip(1),\n",
    "    transforms.RandomRotation(degrees=45),\n",
    "    transforms.RandomVerticalFlip(1),\n",
    "    transforms.RandomRotation(degrees=45),\n",
    "    transforms.RandomHorizontalFlip(1),\n",
    "    transforms.RandomRotation(degrees=45),\n",
    "    transforms.RandomVerticalFlip(1),\n",
    "    transforms.RandomRotation(degrees=45),\n",
    "    transforms.RandomHorizontalFlip(1),\n",
    "    transforms.RandomRotation(degrees=45),\n",
    "    transforms.RandomVerticalFlip(1)\n",
    "]"
   ]
  },
  {
   "cell_type": "markdown",
   "metadata": {},
   "source": [
    "В цикле открываем папку с указанными трансформациями и прибавляем к уже существующим картинкам"
   ]
  },
  {
   "cell_type": "code",
   "execution_count": 12,
   "metadata": {},
   "outputs": [
    {
     "name": "stdout",
     "output_type": "stream",
     "text": [
      "RandomRotation(degrees=(-45, 45), resample=False, expand=False) done. Len(train_folder) = 1312.\n",
      "RandomHorizontalFlip(p=1) done. Len(train_folder) = 1968.\n",
      "RandomRotation(degrees=(-45, 45), resample=False, expand=False) done. Len(train_folder) = 2624.\n",
      "RandomVerticalFlip(p=1) done. Len(train_folder) = 3280.\n",
      "RandomRotation(degrees=(-45, 45), resample=False, expand=False) done. Len(train_folder) = 3936.\n",
      "RandomHorizontalFlip(p=1) done. Len(train_folder) = 4592.\n",
      "RandomRotation(degrees=(-45, 45), resample=False, expand=False) done. Len(train_folder) = 5248.\n",
      "RandomVerticalFlip(p=1) done. Len(train_folder) = 5904.\n",
      "RandomRotation(degrees=(-45, 45), resample=False, expand=False) done. Len(train_folder) = 6560.\n",
      "RandomHorizontalFlip(p=1) done. Len(train_folder) = 7216.\n",
      "RandomRotation(degrees=(-45, 45), resample=False, expand=False) done. Len(train_folder) = 7872.\n",
      "RandomVerticalFlip(p=1) done. Len(train_folder) = 8528.\n",
      "RandomRotation(degrees=(-45, 45), resample=False, expand=False) done. Len(train_folder) = 9184.\n",
      "RandomHorizontalFlip(p=1) done. Len(train_folder) = 9840.\n",
      "RandomRotation(degrees=(-45, 45), resample=False, expand=False) done. Len(train_folder) = 10496.\n",
      "RandomVerticalFlip(p=1) done. Len(train_folder) = 11152.\n",
      "RandomRotation(degrees=(-45, 45), resample=False, expand=False) done. Len(train_folder) = 11808.\n",
      "RandomHorizontalFlip(p=1) done. Len(train_folder) = 12464.\n",
      "RandomRotation(degrees=(-45, 45), resample=False, expand=False) done. Len(train_folder) = 13120.\n",
      "RandomVerticalFlip(p=1) done. Len(train_folder) = 13776.\n"
     ]
    }
   ],
   "source": [
    "for transformation in transformation_list:\n",
    "    transes = []\n",
    "    transes.append(transforms.Resize(size=(img_size, img_size)))\n",
    "    transes.append(transformation)\n",
    "    transes.append(transforms.ToTensor())\n",
    "    \n",
    "    tr_folder = ImageFolder(root='train_115', transform=transforms.Compose(transes))\n",
    "    \n",
    "    train_folder += tr_folder\n",
    "    \n",
    "    print(f\"{transformation} done. Len(train_folder) = {len(train_folder)}.\")"
   ]
  },
  {
   "cell_type": "markdown",
   "metadata": {},
   "source": [
    "---"
   ]
  },
  {
   "cell_type": "code",
   "execution_count": 13,
   "metadata": {},
   "outputs": [],
   "source": [
    "train_loader = DataLoader(train_folder, batch_size=batch_size, shuffle=True)\n",
    "test_loader = DataLoader(test_folder, batch_size=batch_size, shuffle=True)"
   ]
  },
  {
   "cell_type": "code",
   "execution_count": 14,
   "metadata": {},
   "outputs": [
    {
     "data": {
      "text/plain": [
       "394"
      ]
     },
     "execution_count": 14,
     "metadata": {},
     "output_type": "execute_result"
    }
   ],
   "source": [
    "stat_out = round(len(train_loader) / 5)\n",
    "stat_out"
   ]
  },
  {
   "cell_type": "markdown",
   "metadata": {},
   "source": [
    "## Определение архитектуры"
   ]
  },
  {
   "cell_type": "code",
   "execution_count": 15,
   "metadata": {},
   "outputs": [],
   "source": [
    "class Net(nn.Module):\n",
    "    def __init__(self):\n",
    "        super(Net, self).__init__()\n",
    "        self.conv1 = nn.Conv2d(3, 6, 5)\n",
    "        self.pool = nn.MaxPool2d(2, 2)\n",
    "        self.conv2 = nn.Conv2d(6, 16, 5)\n",
    "        self.fc1 = nn.Linear(16 * 61 * 61, 120)\n",
    "        self.fc2 = nn.Linear(120, 84)\n",
    "        self.fc3 = nn.Linear(84, 8)\n",
    "\n",
    "    def forward(self, x):\n",
    "        x = self.pool(F.relu(self.conv1(x)))\n",
    "        x = self.pool(F.relu(self.conv2(x)))\n",
    "        x = x.view(-1, 16 * 61 * 61)\n",
    "        x = F.relu(self.fc1(x))\n",
    "        x = F.relu(self.fc2(x))\n",
    "        x = self.fc3(x)\n",
    "        return x"
   ]
  },
  {
   "cell_type": "code",
   "execution_count": 16,
   "metadata": {},
   "outputs": [
    {
     "name": "stdout",
     "output_type": "stream",
     "text": [
      "Net(\n",
      "  (conv1): Conv2d(3, 6, kernel_size=(5, 5), stride=(1, 1))\n",
      "  (pool): MaxPool2d(kernel_size=2, stride=2, padding=0, dilation=1, ceil_mode=False)\n",
      "  (conv2): Conv2d(6, 16, kernel_size=(5, 5), stride=(1, 1))\n",
      "  (fc1): Linear(in_features=59536, out_features=120, bias=True)\n",
      "  (fc2): Linear(in_features=120, out_features=84, bias=True)\n",
      "  (fc3): Linear(in_features=84, out_features=8, bias=True)\n",
      ")\n"
     ]
    }
   ],
   "source": [
    "net = Net()\n",
    "net.to(device)\n",
    "print(net)"
   ]
  },
  {
   "cell_type": "code",
   "execution_count": 33,
   "metadata": {},
   "outputs": [],
   "source": [
    "criterion = nn.CrossEntropyLoss()\n",
    "optimizer = optim.SGD(net.parameters(), lr=learning_rate, momentum=0.9)"
   ]
  },
  {
   "cell_type": "markdown",
   "metadata": {},
   "source": [
    "## Обучение "
   ]
  },
  {
   "cell_type": "code",
   "execution_count": null,
   "metadata": {},
   "outputs": [],
   "source": [
    "%%time\n",
    "for epoch in range(num_epochs):  # loop over the dataset multiple times\n",
    "    \n",
    "    print(f\"Epoch {epoch + 1} ------------\")\n",
    "    running_loss = 0.0\n",
    "    \n",
    "    for i, data in enumerate(train_loader, 0):\n",
    "        # get the inputs; data is a list of [inputs, labels]\n",
    "        inputs, labels = data[0].to(device), data[1].to(device)\n",
    "        \n",
    "        # zero the parameter gradients\n",
    "        optimizer.zero_grad()\n",
    "\n",
    "        # forward + backward + optimize\n",
    "        outputs = net(inputs)\n",
    "        loss = criterion(outputs, labels)\n",
    "        loss.backward()\n",
    "        optimizer.step()\n",
    "\n",
    "        # print statistics\n",
    "        running_loss += loss.item() * inputs.size(0)\n",
    "        if i % stat_out == (stat_out - 1):\n",
    "            print(f\"[{epoch + 1}, {i + 1}] loss: {running_loss / len(train_folder)}\")\n",
    "            running_loss = 0.0\n",
    "\n",
    "print('Finished Training')"
   ]
  },
  {
   "cell_type": "code",
   "execution_count": 21,
   "metadata": {},
   "outputs": [],
   "source": [
    "criterion = nn.CrossEntropyLoss()"
   ]
  },
  {
   "cell_type": "code",
   "execution_count": 32,
   "metadata": {},
   "outputs": [
    {
     "data": {
      "text/plain": [
       "2.091068744659424"
      ]
     },
     "execution_count": 32,
     "metadata": {},
     "output_type": "execute_result"
    }
   ],
   "source": [
    "loss = criterion(outputs, labels)\n",
    "loss.item()"
   ]
  },
  {
   "cell_type": "markdown",
   "metadata": {},
   "source": [
    "Сохранение выученных коэффициентов для возможности дальнейшей загрузки"
   ]
  },
  {
   "cell_type": "code",
   "execution_count": null,
   "metadata": {},
   "outputs": [],
   "source": [
    "coeff_path = f\"nn_coeffs/fixed_count_and_transformations/own_cnn_{img_size}x{img_size}.pth\"\n",
    "torch.save(net.state_dict(), coeff_path)"
   ]
  },
  {
   "cell_type": "markdown",
   "metadata": {},
   "source": [
    "## Оценка accuracy"
   ]
  },
  {
   "cell_type": "code",
   "execution_count": null,
   "metadata": {},
   "outputs": [],
   "source": [
    "result_dict = {\n",
    "    \"real\" : [],\n",
    "    \"predicted\" : []\n",
    "}\n",
    "\n",
    "with torch.no_grad():\n",
    "    for images, labels in test_loader:\n",
    "        images, labels = images.to(device), labels.to(device)\n",
    "        outputs = net(images)\n",
    "        _, predicted = torch.max(outputs.data, 1)\n",
    "        for i in range(len(labels)):\n",
    "            result_dict[\"real\"].append(classes_map[labels[i].item()])\n",
    "            result_dict[\"predicted\"].append(classes_map[predicted[i].item()])\n",
    "\n",
    "result_df = pd.DataFrame(result_dict)\n",
    "result_df[\"answer\"] = result_df.apply(lambda x: int(x[\"real\"] == x[\"predicted\"]), axis=1)\n",
    "\n",
    "total_acc = accuracy_score(result_df[\"real\"], result_df[\"predicted\"]) * 100\n",
    "print(f\"Total accuracy: {round(total_acc, 2)}%\")\n",
    "print(\"---------------------\")\n",
    "\n",
    "for img_class in result_df[\"real\"].unique():\n",
    "    class_df = result_df[result_df[\"real\"] == img_class]\n",
    "    class_acc = accuracy_score(class_df[\"real\"], class_df[\"predicted\"]) * 100\n",
    "    print(f\"{img_class} ({len(class_df)}) : {round(class_acc, 2)}%\")"
   ]
  },
  {
   "cell_type": "code",
   "execution_count": null,
   "metadata": {},
   "outputs": [],
   "source": []
  }
 ],
 "metadata": {
  "kernelspec": {
   "display_name": "Python 3",
   "language": "python",
   "name": "python3"
  },
  "language_info": {
   "codemirror_mode": {
    "name": "ipython",
    "version": 3
   },
   "file_extension": ".py",
   "mimetype": "text/x-python",
   "name": "python",
   "nbconvert_exporter": "python",
   "pygments_lexer": "ipython3",
   "version": "3.7.4"
  }
 },
 "nbformat": 4,
 "nbformat_minor": 4
}
